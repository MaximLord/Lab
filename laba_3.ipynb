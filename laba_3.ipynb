{
 "cells": [
  {
   "cell_type": "code",
   "execution_count": 64,
   "metadata": {
    "collapsed": true
   },
   "outputs": [],
   "source": [
    "import pandas as pd\n",
    "import numpy as np"
   ]
  },
  {
   "cell_type": "code",
   "execution_count": 65,
   "outputs": [
    {
     "data": {
      "text/plain": "       Unnamed: 0  Gender EthnicGroup          ParentEduc     LunchType  \\\n0               0  female         NaN   bachelor's degree      standard   \n1               1  female     group C        some college      standard   \n2               2  female     group B     master's degree      standard   \n3               3    male     group A  associate's degree  free/reduced   \n4               4    male     group C        some college      standard   \n...           ...     ...         ...                 ...           ...   \n30636         816  female     group D         high school      standard   \n30637         890    male     group E         high school      standard   \n30638         911  female         NaN         high school  free/reduced   \n30639         934  female     group D  associate's degree      standard   \n30640         960    male     group B        some college      standard   \n\n        TestPrep ParentMaritalStatus PracticeSport IsFirstChild  NrSiblings  \\\n0           none             married     regularly          yes         3.0   \n1            NaN             married     sometimes          yes         0.0   \n2           none              single     sometimes          yes         4.0   \n3           none             married         never           no         1.0   \n4           none             married     sometimes          yes         0.0   \n...          ...                 ...           ...          ...         ...   \n30636       none              single     sometimes           no         2.0   \n30637       none              single     regularly           no         1.0   \n30638  completed             married     sometimes           no         1.0   \n30639  completed             married     regularly           no         3.0   \n30640       none             married         never           no         1.0   \n\n      TransportMeans WklyStudyHours  MathScore  ReadingScore  WritingScore  \n0         school_bus            < 5         71            71            74  \n1                NaN         5 - 10         69            90            88  \n2         school_bus            < 5         87            93            91  \n3                NaN         5 - 10         45            56            42  \n4         school_bus         5 - 10         76            78            75  \n...              ...            ...        ...           ...           ...  \n30636     school_bus         5 - 10         59            61            65  \n30637        private         5 - 10         58            53            51  \n30638        private         5 - 10         61            70            67  \n30639     school_bus         5 - 10         82            90            93  \n30640     school_bus         5 - 10         64            60            58  \n\n[30641 rows x 15 columns]",
      "text/html": "<div>\n<style scoped>\n    .dataframe tbody tr th:only-of-type {\n        vertical-align: middle;\n    }\n\n    .dataframe tbody tr th {\n        vertical-align: top;\n    }\n\n    .dataframe thead th {\n        text-align: right;\n    }\n</style>\n<table border=\"1\" class=\"dataframe\">\n  <thead>\n    <tr style=\"text-align: right;\">\n      <th></th>\n      <th>Unnamed: 0</th>\n      <th>Gender</th>\n      <th>EthnicGroup</th>\n      <th>ParentEduc</th>\n      <th>LunchType</th>\n      <th>TestPrep</th>\n      <th>ParentMaritalStatus</th>\n      <th>PracticeSport</th>\n      <th>IsFirstChild</th>\n      <th>NrSiblings</th>\n      <th>TransportMeans</th>\n      <th>WklyStudyHours</th>\n      <th>MathScore</th>\n      <th>ReadingScore</th>\n      <th>WritingScore</th>\n    </tr>\n  </thead>\n  <tbody>\n    <tr>\n      <th>0</th>\n      <td>0</td>\n      <td>female</td>\n      <td>NaN</td>\n      <td>bachelor's degree</td>\n      <td>standard</td>\n      <td>none</td>\n      <td>married</td>\n      <td>regularly</td>\n      <td>yes</td>\n      <td>3.0</td>\n      <td>school_bus</td>\n      <td>&lt; 5</td>\n      <td>71</td>\n      <td>71</td>\n      <td>74</td>\n    </tr>\n    <tr>\n      <th>1</th>\n      <td>1</td>\n      <td>female</td>\n      <td>group C</td>\n      <td>some college</td>\n      <td>standard</td>\n      <td>NaN</td>\n      <td>married</td>\n      <td>sometimes</td>\n      <td>yes</td>\n      <td>0.0</td>\n      <td>NaN</td>\n      <td>5 - 10</td>\n      <td>69</td>\n      <td>90</td>\n      <td>88</td>\n    </tr>\n    <tr>\n      <th>2</th>\n      <td>2</td>\n      <td>female</td>\n      <td>group B</td>\n      <td>master's degree</td>\n      <td>standard</td>\n      <td>none</td>\n      <td>single</td>\n      <td>sometimes</td>\n      <td>yes</td>\n      <td>4.0</td>\n      <td>school_bus</td>\n      <td>&lt; 5</td>\n      <td>87</td>\n      <td>93</td>\n      <td>91</td>\n    </tr>\n    <tr>\n      <th>3</th>\n      <td>3</td>\n      <td>male</td>\n      <td>group A</td>\n      <td>associate's degree</td>\n      <td>free/reduced</td>\n      <td>none</td>\n      <td>married</td>\n      <td>never</td>\n      <td>no</td>\n      <td>1.0</td>\n      <td>NaN</td>\n      <td>5 - 10</td>\n      <td>45</td>\n      <td>56</td>\n      <td>42</td>\n    </tr>\n    <tr>\n      <th>4</th>\n      <td>4</td>\n      <td>male</td>\n      <td>group C</td>\n      <td>some college</td>\n      <td>standard</td>\n      <td>none</td>\n      <td>married</td>\n      <td>sometimes</td>\n      <td>yes</td>\n      <td>0.0</td>\n      <td>school_bus</td>\n      <td>5 - 10</td>\n      <td>76</td>\n      <td>78</td>\n      <td>75</td>\n    </tr>\n    <tr>\n      <th>...</th>\n      <td>...</td>\n      <td>...</td>\n      <td>...</td>\n      <td>...</td>\n      <td>...</td>\n      <td>...</td>\n      <td>...</td>\n      <td>...</td>\n      <td>...</td>\n      <td>...</td>\n      <td>...</td>\n      <td>...</td>\n      <td>...</td>\n      <td>...</td>\n      <td>...</td>\n    </tr>\n    <tr>\n      <th>30636</th>\n      <td>816</td>\n      <td>female</td>\n      <td>group D</td>\n      <td>high school</td>\n      <td>standard</td>\n      <td>none</td>\n      <td>single</td>\n      <td>sometimes</td>\n      <td>no</td>\n      <td>2.0</td>\n      <td>school_bus</td>\n      <td>5 - 10</td>\n      <td>59</td>\n      <td>61</td>\n      <td>65</td>\n    </tr>\n    <tr>\n      <th>30637</th>\n      <td>890</td>\n      <td>male</td>\n      <td>group E</td>\n      <td>high school</td>\n      <td>standard</td>\n      <td>none</td>\n      <td>single</td>\n      <td>regularly</td>\n      <td>no</td>\n      <td>1.0</td>\n      <td>private</td>\n      <td>5 - 10</td>\n      <td>58</td>\n      <td>53</td>\n      <td>51</td>\n    </tr>\n    <tr>\n      <th>30638</th>\n      <td>911</td>\n      <td>female</td>\n      <td>NaN</td>\n      <td>high school</td>\n      <td>free/reduced</td>\n      <td>completed</td>\n      <td>married</td>\n      <td>sometimes</td>\n      <td>no</td>\n      <td>1.0</td>\n      <td>private</td>\n      <td>5 - 10</td>\n      <td>61</td>\n      <td>70</td>\n      <td>67</td>\n    </tr>\n    <tr>\n      <th>30639</th>\n      <td>934</td>\n      <td>female</td>\n      <td>group D</td>\n      <td>associate's degree</td>\n      <td>standard</td>\n      <td>completed</td>\n      <td>married</td>\n      <td>regularly</td>\n      <td>no</td>\n      <td>3.0</td>\n      <td>school_bus</td>\n      <td>5 - 10</td>\n      <td>82</td>\n      <td>90</td>\n      <td>93</td>\n    </tr>\n    <tr>\n      <th>30640</th>\n      <td>960</td>\n      <td>male</td>\n      <td>group B</td>\n      <td>some college</td>\n      <td>standard</td>\n      <td>none</td>\n      <td>married</td>\n      <td>never</td>\n      <td>no</td>\n      <td>1.0</td>\n      <td>school_bus</td>\n      <td>5 - 10</td>\n      <td>64</td>\n      <td>60</td>\n      <td>58</td>\n    </tr>\n  </tbody>\n</table>\n<p>30641 rows × 15 columns</p>\n</div>"
     },
     "execution_count": 65,
     "metadata": {},
     "output_type": "execute_result"
    }
   ],
   "source": [
    "univ_df = pd.read_csv( \"expanded.csv\" )\n",
    "univ_df"
   ],
   "metadata": {
    "collapsed": false
   }
  },
  {
   "cell_type": "code",
   "execution_count": 66,
   "outputs": [],
   "source": [
    "#2. Выполпить преобработку данных\n",
    "#1. Числовые переменные пометить меткой float64."
   ],
   "metadata": {
    "collapsed": false
   }
  },
  {
   "cell_type": "code",
   "execution_count": 67,
   "outputs": [
    {
     "data": {
      "text/plain": "       NrSiblings\n0             3.0\n1             0.0\n2             4.0\n3             1.0\n4             0.0\n...           ...\n30636         2.0\n30637         1.0\n30638         1.0\n30639         3.0\n30640         1.0\n\n[30641 rows x 1 columns]",
      "text/html": "<div>\n<style scoped>\n    .dataframe tbody tr th:only-of-type {\n        vertical-align: middle;\n    }\n\n    .dataframe tbody tr th {\n        vertical-align: top;\n    }\n\n    .dataframe thead th {\n        text-align: right;\n    }\n</style>\n<table border=\"1\" class=\"dataframe\">\n  <thead>\n    <tr style=\"text-align: right;\">\n      <th></th>\n      <th>NrSiblings</th>\n    </tr>\n  </thead>\n  <tbody>\n    <tr>\n      <th>0</th>\n      <td>3.0</td>\n    </tr>\n    <tr>\n      <th>1</th>\n      <td>0.0</td>\n    </tr>\n    <tr>\n      <th>2</th>\n      <td>4.0</td>\n    </tr>\n    <tr>\n      <th>3</th>\n      <td>1.0</td>\n    </tr>\n    <tr>\n      <th>4</th>\n      <td>0.0</td>\n    </tr>\n    <tr>\n      <th>...</th>\n      <td>...</td>\n    </tr>\n    <tr>\n      <th>30636</th>\n      <td>2.0</td>\n    </tr>\n    <tr>\n      <th>30637</th>\n      <td>1.0</td>\n    </tr>\n    <tr>\n      <th>30638</th>\n      <td>1.0</td>\n    </tr>\n    <tr>\n      <th>30639</th>\n      <td>3.0</td>\n    </tr>\n    <tr>\n      <th>30640</th>\n      <td>1.0</td>\n    </tr>\n  </tbody>\n</table>\n<p>30641 rows × 1 columns</p>\n</div>"
     },
     "execution_count": 67,
     "metadata": {},
     "output_type": "execute_result"
    }
   ],
   "source": [
    "columns = univ_df.select_dtypes(include=[np.float64]).columns\n",
    "univ_df[columns] = univ_df[columns].astype(np.float64)\n",
    "univ_df[columns]"
   ],
   "metadata": {
    "collapsed": false
   }
  },
  {
   "cell_type": "code",
   "execution_count": 68,
   "outputs": [],
   "source": [
    "#2. Категориальные переменные пометить меткой category."
   ],
   "metadata": {
    "collapsed": false
   }
  },
  {
   "cell_type": "code",
   "execution_count": 69,
   "outputs": [
    {
     "data": {
      "text/plain": "       Gender EthnicGroup          ParentEduc     LunchType   TestPrep  \\\n0      female         NaN   bachelor's degree      standard       none   \n1      female     group C        some college      standard        NaN   \n2      female     group B     master's degree      standard       none   \n3        male     group A  associate's degree  free/reduced       none   \n4        male     group C        some college      standard       none   \n...       ...         ...                 ...           ...        ...   \n30636  female     group D         high school      standard       none   \n30637    male     group E         high school      standard       none   \n30638  female         NaN         high school  free/reduced  completed   \n30639  female     group D  associate's degree      standard  completed   \n30640    male     group B        some college      standard       none   \n\n      ParentMaritalStatus PracticeSport IsFirstChild TransportMeans  \\\n0                 married     regularly          yes     school_bus   \n1                 married     sometimes          yes            NaN   \n2                  single     sometimes          yes     school_bus   \n3                 married         never           no            NaN   \n4                 married     sometimes          yes     school_bus   \n...                   ...           ...          ...            ...   \n30636              single     sometimes           no     school_bus   \n30637              single     regularly           no        private   \n30638             married     sometimes           no        private   \n30639             married     regularly           no     school_bus   \n30640             married         never           no     school_bus   \n\n      WklyStudyHours  \n0                < 5  \n1             5 - 10  \n2                < 5  \n3             5 - 10  \n4             5 - 10  \n...              ...  \n30636         5 - 10  \n30637         5 - 10  \n30638         5 - 10  \n30639         5 - 10  \n30640         5 - 10  \n\n[30641 rows x 10 columns]",
      "text/html": "<div>\n<style scoped>\n    .dataframe tbody tr th:only-of-type {\n        vertical-align: middle;\n    }\n\n    .dataframe tbody tr th {\n        vertical-align: top;\n    }\n\n    .dataframe thead th {\n        text-align: right;\n    }\n</style>\n<table border=\"1\" class=\"dataframe\">\n  <thead>\n    <tr style=\"text-align: right;\">\n      <th></th>\n      <th>Gender</th>\n      <th>EthnicGroup</th>\n      <th>ParentEduc</th>\n      <th>LunchType</th>\n      <th>TestPrep</th>\n      <th>ParentMaritalStatus</th>\n      <th>PracticeSport</th>\n      <th>IsFirstChild</th>\n      <th>TransportMeans</th>\n      <th>WklyStudyHours</th>\n    </tr>\n  </thead>\n  <tbody>\n    <tr>\n      <th>0</th>\n      <td>female</td>\n      <td>NaN</td>\n      <td>bachelor's degree</td>\n      <td>standard</td>\n      <td>none</td>\n      <td>married</td>\n      <td>regularly</td>\n      <td>yes</td>\n      <td>school_bus</td>\n      <td>&lt; 5</td>\n    </tr>\n    <tr>\n      <th>1</th>\n      <td>female</td>\n      <td>group C</td>\n      <td>some college</td>\n      <td>standard</td>\n      <td>NaN</td>\n      <td>married</td>\n      <td>sometimes</td>\n      <td>yes</td>\n      <td>NaN</td>\n      <td>5 - 10</td>\n    </tr>\n    <tr>\n      <th>2</th>\n      <td>female</td>\n      <td>group B</td>\n      <td>master's degree</td>\n      <td>standard</td>\n      <td>none</td>\n      <td>single</td>\n      <td>sometimes</td>\n      <td>yes</td>\n      <td>school_bus</td>\n      <td>&lt; 5</td>\n    </tr>\n    <tr>\n      <th>3</th>\n      <td>male</td>\n      <td>group A</td>\n      <td>associate's degree</td>\n      <td>free/reduced</td>\n      <td>none</td>\n      <td>married</td>\n      <td>never</td>\n      <td>no</td>\n      <td>NaN</td>\n      <td>5 - 10</td>\n    </tr>\n    <tr>\n      <th>4</th>\n      <td>male</td>\n      <td>group C</td>\n      <td>some college</td>\n      <td>standard</td>\n      <td>none</td>\n      <td>married</td>\n      <td>sometimes</td>\n      <td>yes</td>\n      <td>school_bus</td>\n      <td>5 - 10</td>\n    </tr>\n    <tr>\n      <th>...</th>\n      <td>...</td>\n      <td>...</td>\n      <td>...</td>\n      <td>...</td>\n      <td>...</td>\n      <td>...</td>\n      <td>...</td>\n      <td>...</td>\n      <td>...</td>\n      <td>...</td>\n    </tr>\n    <tr>\n      <th>30636</th>\n      <td>female</td>\n      <td>group D</td>\n      <td>high school</td>\n      <td>standard</td>\n      <td>none</td>\n      <td>single</td>\n      <td>sometimes</td>\n      <td>no</td>\n      <td>school_bus</td>\n      <td>5 - 10</td>\n    </tr>\n    <tr>\n      <th>30637</th>\n      <td>male</td>\n      <td>group E</td>\n      <td>high school</td>\n      <td>standard</td>\n      <td>none</td>\n      <td>single</td>\n      <td>regularly</td>\n      <td>no</td>\n      <td>private</td>\n      <td>5 - 10</td>\n    </tr>\n    <tr>\n      <th>30638</th>\n      <td>female</td>\n      <td>NaN</td>\n      <td>high school</td>\n      <td>free/reduced</td>\n      <td>completed</td>\n      <td>married</td>\n      <td>sometimes</td>\n      <td>no</td>\n      <td>private</td>\n      <td>5 - 10</td>\n    </tr>\n    <tr>\n      <th>30639</th>\n      <td>female</td>\n      <td>group D</td>\n      <td>associate's degree</td>\n      <td>standard</td>\n      <td>completed</td>\n      <td>married</td>\n      <td>regularly</td>\n      <td>no</td>\n      <td>school_bus</td>\n      <td>5 - 10</td>\n    </tr>\n    <tr>\n      <th>30640</th>\n      <td>male</td>\n      <td>group B</td>\n      <td>some college</td>\n      <td>standard</td>\n      <td>none</td>\n      <td>married</td>\n      <td>never</td>\n      <td>no</td>\n      <td>school_bus</td>\n      <td>5 - 10</td>\n    </tr>\n  </tbody>\n</table>\n<p>30641 rows × 10 columns</p>\n</div>"
     },
     "execution_count": 69,
     "metadata": {},
     "output_type": "execute_result"
    }
   ],
   "source": [
    "columns = univ_df.select_dtypes(include=[object]).columns\n",
    "univ_df[columns] = univ_df[columns].astype('category')\n",
    "univ_df[columns]"
   ],
   "metadata": {
    "collapsed": false
   }
  },
  {
   "cell_type": "code",
   "execution_count": 70,
   "outputs": [
    {
     "data": {
      "text/plain": "Unnamed: 0                int64\nGender                 category\nEthnicGroup            category\nParentEduc             category\nLunchType              category\nTestPrep               category\nParentMaritalStatus    category\nPracticeSport          category\nIsFirstChild           category\nNrSiblings              float64\nTransportMeans         category\nWklyStudyHours         category\nMathScore                 int64\nReadingScore              int64\nWritingScore              int64\ndtype: object"
     },
     "execution_count": 70,
     "metadata": {},
     "output_type": "execute_result"
    }
   ],
   "source": [
    "univ_df.dtypes"
   ],
   "metadata": {
    "collapsed": false
   }
  },
  {
   "cell_type": "code",
   "execution_count": 71,
   "outputs": [],
   "source": [
    "#3. Вывести tail, head набора данных"
   ],
   "metadata": {
    "collapsed": false
   }
  },
  {
   "cell_type": "code",
   "execution_count": 72,
   "outputs": [
    {
     "data": {
      "text/plain": "       Unnamed: 0  Gender EthnicGroup          ParentEduc     LunchType  \\\n30636         816  female     group D         high school      standard   \n30637         890    male     group E         high school      standard   \n30638         911  female         NaN         high school  free/reduced   \n30639         934  female     group D  associate's degree      standard   \n30640         960    male     group B        some college      standard   \n\n        TestPrep ParentMaritalStatus PracticeSport IsFirstChild  NrSiblings  \\\n30636       none              single     sometimes           no         2.0   \n30637       none              single     regularly           no         1.0   \n30638  completed             married     sometimes           no         1.0   \n30639  completed             married     regularly           no         3.0   \n30640       none             married         never           no         1.0   \n\n      TransportMeans WklyStudyHours  MathScore  ReadingScore  WritingScore  \n30636     school_bus         5 - 10         59            61            65  \n30637        private         5 - 10         58            53            51  \n30638        private         5 - 10         61            70            67  \n30639     school_bus         5 - 10         82            90            93  \n30640     school_bus         5 - 10         64            60            58  ",
      "text/html": "<div>\n<style scoped>\n    .dataframe tbody tr th:only-of-type {\n        vertical-align: middle;\n    }\n\n    .dataframe tbody tr th {\n        vertical-align: top;\n    }\n\n    .dataframe thead th {\n        text-align: right;\n    }\n</style>\n<table border=\"1\" class=\"dataframe\">\n  <thead>\n    <tr style=\"text-align: right;\">\n      <th></th>\n      <th>Unnamed: 0</th>\n      <th>Gender</th>\n      <th>EthnicGroup</th>\n      <th>ParentEduc</th>\n      <th>LunchType</th>\n      <th>TestPrep</th>\n      <th>ParentMaritalStatus</th>\n      <th>PracticeSport</th>\n      <th>IsFirstChild</th>\n      <th>NrSiblings</th>\n      <th>TransportMeans</th>\n      <th>WklyStudyHours</th>\n      <th>MathScore</th>\n      <th>ReadingScore</th>\n      <th>WritingScore</th>\n    </tr>\n  </thead>\n  <tbody>\n    <tr>\n      <th>30636</th>\n      <td>816</td>\n      <td>female</td>\n      <td>group D</td>\n      <td>high school</td>\n      <td>standard</td>\n      <td>none</td>\n      <td>single</td>\n      <td>sometimes</td>\n      <td>no</td>\n      <td>2.0</td>\n      <td>school_bus</td>\n      <td>5 - 10</td>\n      <td>59</td>\n      <td>61</td>\n      <td>65</td>\n    </tr>\n    <tr>\n      <th>30637</th>\n      <td>890</td>\n      <td>male</td>\n      <td>group E</td>\n      <td>high school</td>\n      <td>standard</td>\n      <td>none</td>\n      <td>single</td>\n      <td>regularly</td>\n      <td>no</td>\n      <td>1.0</td>\n      <td>private</td>\n      <td>5 - 10</td>\n      <td>58</td>\n      <td>53</td>\n      <td>51</td>\n    </tr>\n    <tr>\n      <th>30638</th>\n      <td>911</td>\n      <td>female</td>\n      <td>NaN</td>\n      <td>high school</td>\n      <td>free/reduced</td>\n      <td>completed</td>\n      <td>married</td>\n      <td>sometimes</td>\n      <td>no</td>\n      <td>1.0</td>\n      <td>private</td>\n      <td>5 - 10</td>\n      <td>61</td>\n      <td>70</td>\n      <td>67</td>\n    </tr>\n    <tr>\n      <th>30639</th>\n      <td>934</td>\n      <td>female</td>\n      <td>group D</td>\n      <td>associate's degree</td>\n      <td>standard</td>\n      <td>completed</td>\n      <td>married</td>\n      <td>regularly</td>\n      <td>no</td>\n      <td>3.0</td>\n      <td>school_bus</td>\n      <td>5 - 10</td>\n      <td>82</td>\n      <td>90</td>\n      <td>93</td>\n    </tr>\n    <tr>\n      <th>30640</th>\n      <td>960</td>\n      <td>male</td>\n      <td>group B</td>\n      <td>some college</td>\n      <td>standard</td>\n      <td>none</td>\n      <td>married</td>\n      <td>never</td>\n      <td>no</td>\n      <td>1.0</td>\n      <td>school_bus</td>\n      <td>5 - 10</td>\n      <td>64</td>\n      <td>60</td>\n      <td>58</td>\n    </tr>\n  </tbody>\n</table>\n</div>"
     },
     "execution_count": 72,
     "metadata": {},
     "output_type": "execute_result"
    }
   ],
   "source": [
    "univ_df.tail()"
   ],
   "metadata": {
    "collapsed": false
   }
  },
  {
   "cell_type": "code",
   "execution_count": 73,
   "outputs": [
    {
     "data": {
      "text/plain": "   Unnamed: 0  Gender EthnicGroup          ParentEduc     LunchType TestPrep  \\\n0           0  female         NaN   bachelor's degree      standard     none   \n1           1  female     group C        some college      standard      NaN   \n2           2  female     group B     master's degree      standard     none   \n3           3    male     group A  associate's degree  free/reduced     none   \n4           4    male     group C        some college      standard     none   \n\n  ParentMaritalStatus PracticeSport IsFirstChild  NrSiblings TransportMeans  \\\n0             married     regularly          yes         3.0     school_bus   \n1             married     sometimes          yes         0.0            NaN   \n2              single     sometimes          yes         4.0     school_bus   \n3             married         never           no         1.0            NaN   \n4             married     sometimes          yes         0.0     school_bus   \n\n  WklyStudyHours  MathScore  ReadingScore  WritingScore  \n0            < 5         71            71            74  \n1         5 - 10         69            90            88  \n2            < 5         87            93            91  \n3         5 - 10         45            56            42  \n4         5 - 10         76            78            75  ",
      "text/html": "<div>\n<style scoped>\n    .dataframe tbody tr th:only-of-type {\n        vertical-align: middle;\n    }\n\n    .dataframe tbody tr th {\n        vertical-align: top;\n    }\n\n    .dataframe thead th {\n        text-align: right;\n    }\n</style>\n<table border=\"1\" class=\"dataframe\">\n  <thead>\n    <tr style=\"text-align: right;\">\n      <th></th>\n      <th>Unnamed: 0</th>\n      <th>Gender</th>\n      <th>EthnicGroup</th>\n      <th>ParentEduc</th>\n      <th>LunchType</th>\n      <th>TestPrep</th>\n      <th>ParentMaritalStatus</th>\n      <th>PracticeSport</th>\n      <th>IsFirstChild</th>\n      <th>NrSiblings</th>\n      <th>TransportMeans</th>\n      <th>WklyStudyHours</th>\n      <th>MathScore</th>\n      <th>ReadingScore</th>\n      <th>WritingScore</th>\n    </tr>\n  </thead>\n  <tbody>\n    <tr>\n      <th>0</th>\n      <td>0</td>\n      <td>female</td>\n      <td>NaN</td>\n      <td>bachelor's degree</td>\n      <td>standard</td>\n      <td>none</td>\n      <td>married</td>\n      <td>regularly</td>\n      <td>yes</td>\n      <td>3.0</td>\n      <td>school_bus</td>\n      <td>&lt; 5</td>\n      <td>71</td>\n      <td>71</td>\n      <td>74</td>\n    </tr>\n    <tr>\n      <th>1</th>\n      <td>1</td>\n      <td>female</td>\n      <td>group C</td>\n      <td>some college</td>\n      <td>standard</td>\n      <td>NaN</td>\n      <td>married</td>\n      <td>sometimes</td>\n      <td>yes</td>\n      <td>0.0</td>\n      <td>NaN</td>\n      <td>5 - 10</td>\n      <td>69</td>\n      <td>90</td>\n      <td>88</td>\n    </tr>\n    <tr>\n      <th>2</th>\n      <td>2</td>\n      <td>female</td>\n      <td>group B</td>\n      <td>master's degree</td>\n      <td>standard</td>\n      <td>none</td>\n      <td>single</td>\n      <td>sometimes</td>\n      <td>yes</td>\n      <td>4.0</td>\n      <td>school_bus</td>\n      <td>&lt; 5</td>\n      <td>87</td>\n      <td>93</td>\n      <td>91</td>\n    </tr>\n    <tr>\n      <th>3</th>\n      <td>3</td>\n      <td>male</td>\n      <td>group A</td>\n      <td>associate's degree</td>\n      <td>free/reduced</td>\n      <td>none</td>\n      <td>married</td>\n      <td>never</td>\n      <td>no</td>\n      <td>1.0</td>\n      <td>NaN</td>\n      <td>5 - 10</td>\n      <td>45</td>\n      <td>56</td>\n      <td>42</td>\n    </tr>\n    <tr>\n      <th>4</th>\n      <td>4</td>\n      <td>male</td>\n      <td>group C</td>\n      <td>some college</td>\n      <td>standard</td>\n      <td>none</td>\n      <td>married</td>\n      <td>sometimes</td>\n      <td>yes</td>\n      <td>0.0</td>\n      <td>school_bus</td>\n      <td>5 - 10</td>\n      <td>76</td>\n      <td>78</td>\n      <td>75</td>\n    </tr>\n  </tbody>\n</table>\n</div>"
     },
     "execution_count": 73,
     "metadata": {},
     "output_type": "execute_result"
    }
   ],
   "source": [
    "univ_df.head()"
   ],
   "metadata": {
    "collapsed": false
   }
  },
  {
   "cell_type": "code",
   "execution_count": 74,
   "outputs": [],
   "source": [
    "#4. Вывести df.info"
   ],
   "metadata": {
    "collapsed": false
   }
  },
  {
   "cell_type": "code",
   "execution_count": 75,
   "outputs": [
    {
     "data": {
      "text/plain": "<bound method DataFrame.info of        Unnamed: 0  Gender EthnicGroup          ParentEduc     LunchType  \\\n0               0  female         NaN   bachelor's degree      standard   \n1               1  female     group C        some college      standard   \n2               2  female     group B     master's degree      standard   \n3               3    male     group A  associate's degree  free/reduced   \n4               4    male     group C        some college      standard   \n...           ...     ...         ...                 ...           ...   \n30636         816  female     group D         high school      standard   \n30637         890    male     group E         high school      standard   \n30638         911  female         NaN         high school  free/reduced   \n30639         934  female     group D  associate's degree      standard   \n30640         960    male     group B        some college      standard   \n\n        TestPrep ParentMaritalStatus PracticeSport IsFirstChild  NrSiblings  \\\n0           none             married     regularly          yes         3.0   \n1            NaN             married     sometimes          yes         0.0   \n2           none              single     sometimes          yes         4.0   \n3           none             married         never           no         1.0   \n4           none             married     sometimes          yes         0.0   \n...          ...                 ...           ...          ...         ...   \n30636       none              single     sometimes           no         2.0   \n30637       none              single     regularly           no         1.0   \n30638  completed             married     sometimes           no         1.0   \n30639  completed             married     regularly           no         3.0   \n30640       none             married         never           no         1.0   \n\n      TransportMeans WklyStudyHours  MathScore  ReadingScore  WritingScore  \n0         school_bus            < 5         71            71            74  \n1                NaN         5 - 10         69            90            88  \n2         school_bus            < 5         87            93            91  \n3                NaN         5 - 10         45            56            42  \n4         school_bus         5 - 10         76            78            75  \n...              ...            ...        ...           ...           ...  \n30636     school_bus         5 - 10         59            61            65  \n30637        private         5 - 10         58            53            51  \n30638        private         5 - 10         61            70            67  \n30639     school_bus         5 - 10         82            90            93  \n30640     school_bus         5 - 10         64            60            58  \n\n[30641 rows x 15 columns]>"
     },
     "execution_count": 75,
     "metadata": {},
     "output_type": "execute_result"
    }
   ],
   "source": [
    "univ_df.info"
   ],
   "metadata": {
    "collapsed": false
   }
  },
  {
   "cell_type": "code",
   "execution_count": 76,
   "outputs": [],
   "source": [
    "#5. Вывести статистические показатели .describe()"
   ],
   "metadata": {
    "collapsed": false
   }
  },
  {
   "cell_type": "code",
   "execution_count": 77,
   "outputs": [
    {
     "data": {
      "text/plain": "         Unnamed: 0    NrSiblings     MathScore  ReadingScore  WritingScore\ncount  30641.000000  29069.000000  30641.000000  30641.000000  30641.000000\nmean     499.556607      2.145894     66.558402     69.377533     68.418622\nstd      288.747894      1.458242     15.361616     14.758952     15.443525\nmin        0.000000      0.000000      0.000000     10.000000      4.000000\n25%      249.000000      1.000000     56.000000     59.000000     58.000000\n50%      500.000000      2.000000     67.000000     70.000000     69.000000\n75%      750.000000      3.000000     78.000000     80.000000     79.000000\nmax      999.000000      7.000000    100.000000    100.000000    100.000000",
      "text/html": "<div>\n<style scoped>\n    .dataframe tbody tr th:only-of-type {\n        vertical-align: middle;\n    }\n\n    .dataframe tbody tr th {\n        vertical-align: top;\n    }\n\n    .dataframe thead th {\n        text-align: right;\n    }\n</style>\n<table border=\"1\" class=\"dataframe\">\n  <thead>\n    <tr style=\"text-align: right;\">\n      <th></th>\n      <th>Unnamed: 0</th>\n      <th>NrSiblings</th>\n      <th>MathScore</th>\n      <th>ReadingScore</th>\n      <th>WritingScore</th>\n    </tr>\n  </thead>\n  <tbody>\n    <tr>\n      <th>count</th>\n      <td>30641.000000</td>\n      <td>29069.000000</td>\n      <td>30641.000000</td>\n      <td>30641.000000</td>\n      <td>30641.000000</td>\n    </tr>\n    <tr>\n      <th>mean</th>\n      <td>499.556607</td>\n      <td>2.145894</td>\n      <td>66.558402</td>\n      <td>69.377533</td>\n      <td>68.418622</td>\n    </tr>\n    <tr>\n      <th>std</th>\n      <td>288.747894</td>\n      <td>1.458242</td>\n      <td>15.361616</td>\n      <td>14.758952</td>\n      <td>15.443525</td>\n    </tr>\n    <tr>\n      <th>min</th>\n      <td>0.000000</td>\n      <td>0.000000</td>\n      <td>0.000000</td>\n      <td>10.000000</td>\n      <td>4.000000</td>\n    </tr>\n    <tr>\n      <th>25%</th>\n      <td>249.000000</td>\n      <td>1.000000</td>\n      <td>56.000000</td>\n      <td>59.000000</td>\n      <td>58.000000</td>\n    </tr>\n    <tr>\n      <th>50%</th>\n      <td>500.000000</td>\n      <td>2.000000</td>\n      <td>67.000000</td>\n      <td>70.000000</td>\n      <td>69.000000</td>\n    </tr>\n    <tr>\n      <th>75%</th>\n      <td>750.000000</td>\n      <td>3.000000</td>\n      <td>78.000000</td>\n      <td>80.000000</td>\n      <td>79.000000</td>\n    </tr>\n    <tr>\n      <th>max</th>\n      <td>999.000000</td>\n      <td>7.000000</td>\n      <td>100.000000</td>\n      <td>100.000000</td>\n      <td>100.000000</td>\n    </tr>\n  </tbody>\n</table>\n</div>"
     },
     "execution_count": 77,
     "metadata": {},
     "output_type": "execute_result"
    }
   ],
   "source": [
    "univ_df.describe()"
   ],
   "metadata": {
    "collapsed": false
   }
  },
  {
   "cell_type": "code",
   "execution_count": 78,
   "outputs": [],
   "source": [
    "#3. Выполнить поиск признаков, содержащих NaN, и вычислить их"
   ],
   "metadata": {
    "collapsed": false
   }
  },
  {
   "cell_type": "code",
   "execution_count": 79,
   "outputs": [
    {
     "name": "stdout",
     "output_type": "stream",
     "text": [
      "EthnicGroup\n",
      "Nan:  1840\n",
      "count       28801\n",
      "unique          5\n",
      "top       group C\n",
      "freq         9212\n",
      "Name: EthnicGroup, dtype: object\n",
      "_______________________________\n",
      "ParentEduc\n",
      "Nan:  1845\n",
      "count            28796\n",
      "unique               6\n",
      "top       some college\n",
      "freq              6633\n",
      "Name: ParentEduc, dtype: object\n",
      "_______________________________\n",
      "TestPrep\n",
      "Nan:  1830\n",
      "count     28811\n",
      "unique        2\n",
      "top        none\n",
      "freq      18856\n",
      "Name: TestPrep, dtype: object\n",
      "_______________________________\n",
      "ParentMaritalStatus\n",
      "Nan:  1190\n",
      "count       29451\n",
      "unique          4\n",
      "top       married\n",
      "freq        16844\n",
      "Name: ParentMaritalStatus, dtype: object\n",
      "_______________________________\n",
      "PracticeSport\n",
      "Nan:  631\n",
      "count         30010\n",
      "unique            3\n",
      "top       sometimes\n",
      "freq          15213\n",
      "Name: PracticeSport, dtype: object\n",
      "_______________________________\n",
      "IsFirstChild\n",
      "Nan:  904\n",
      "count     29737\n",
      "unique        2\n",
      "top         yes\n",
      "freq      19082\n",
      "Name: IsFirstChild, dtype: object\n",
      "_______________________________\n",
      "NrSiblings\n",
      "Nan:  1572\n",
      "count    29069.000000\n",
      "mean         2.145894\n",
      "std          1.458242\n",
      "min          0.000000\n",
      "25%          1.000000\n",
      "50%          2.000000\n",
      "75%          3.000000\n",
      "max          7.000000\n",
      "Name: NrSiblings, dtype: float64\n",
      "_______________________________\n",
      "TransportMeans\n",
      "Nan:  3134\n",
      "count          27507\n",
      "unique             2\n",
      "top       school_bus\n",
      "freq           16145\n",
      "Name: TransportMeans, dtype: object\n",
      "_______________________________\n",
      "WklyStudyHours\n",
      "Nan:  955\n",
      "count      29686\n",
      "unique         3\n",
      "top       5 - 10\n",
      "freq       16246\n",
      "Name: WklyStudyHours, dtype: object\n",
      "_______________________________\n"
     ]
    }
   ],
   "source": [
    "for column in univ_df.columns.tolist():\n",
    "    a = univ_df[column].isnull().sum(0)\n",
    "    if a > 0:\n",
    "        print(column)\n",
    "        print(\"Nan: \", univ_df[column].isnull().sum(0))\n",
    "        print(univ_df[column].describe())\n",
    "        print(\"_______________________________\")"
   ],
   "metadata": {
    "collapsed": false
   }
  },
  {
   "cell_type": "code",
   "execution_count": 79,
   "outputs": [],
   "source": [],
   "metadata": {
    "collapsed": false
   }
  }
 ],
 "metadata": {
  "kernelspec": {
   "display_name": "Python 3",
   "language": "python",
   "name": "python3"
  },
  "language_info": {
   "codemirror_mode": {
    "name": "ipython",
    "version": 2
   },
   "file_extension": ".py",
   "mimetype": "text/x-python",
   "name": "python",
   "nbconvert_exporter": "python",
   "pygments_lexer": "ipython2",
   "version": "2.7.6"
  }
 },
 "nbformat": 4,
 "nbformat_minor": 0
}
