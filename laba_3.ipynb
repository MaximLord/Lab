{
 "cells": [
  {
   "cell_type": "code",
   "execution_count": 1,
   "metadata": {
    "collapsed": true
   },
   "outputs": [],
   "source": [
    "import pandas as pd\n",
    "import numpy as np"
   ]
  },
  {
   "cell_type": "code",
   "execution_count": 2,
   "outputs": [
    {
     "data": {
      "text/plain": "       Unnamed: 0  Gender EthnicGroup          ParentEduc     LunchType  \\\n0               0  female         NaN   bachelor's degree      standard   \n1               1  female     group C        some college      standard   \n2               2  female     group B     master's degree      standard   \n3               3    male     group A  associate's degree  free/reduced   \n4               4    male     group C        some college      standard   \n...           ...     ...         ...                 ...           ...   \n30636         816  female     group D         high school      standard   \n30637         890    male     group E         high school      standard   \n30638         911  female         NaN         high school  free/reduced   \n30639         934  female     group D  associate's degree      standard   \n30640         960    male     group B        some college      standard   \n\n        TestPrep ParentMaritalStatus PracticeSport IsFirstChild  NrSiblings  \\\n0           none             married     regularly          yes         3.0   \n1            NaN             married     sometimes          yes         0.0   \n2           none              single     sometimes          yes         4.0   \n3           none             married         never           no         1.0   \n4           none             married     sometimes          yes         0.0   \n...          ...                 ...           ...          ...         ...   \n30636       none              single     sometimes           no         2.0   \n30637       none              single     regularly           no         1.0   \n30638  completed             married     sometimes           no         1.0   \n30639  completed             married     regularly           no         3.0   \n30640       none             married         never           no         1.0   \n\n      TransportMeans WklyStudyHours  MathScore  ReadingScore  WritingScore  \n0         school_bus            < 5         71            71            74  \n1                NaN         5 - 10         69            90            88  \n2         school_bus            < 5         87            93            91  \n3                NaN         5 - 10         45            56            42  \n4         school_bus         5 - 10         76            78            75  \n...              ...            ...        ...           ...           ...  \n30636     school_bus         5 - 10         59            61            65  \n30637        private         5 - 10         58            53            51  \n30638        private         5 - 10         61            70            67  \n30639     school_bus         5 - 10         82            90            93  \n30640     school_bus         5 - 10         64            60            58  \n\n[30641 rows x 15 columns]",
      "text/html": "<div>\n<style scoped>\n    .dataframe tbody tr th:only-of-type {\n        vertical-align: middle;\n    }\n\n    .dataframe tbody tr th {\n        vertical-align: top;\n    }\n\n    .dataframe thead th {\n        text-align: right;\n    }\n</style>\n<table border=\"1\" class=\"dataframe\">\n  <thead>\n    <tr style=\"text-align: right;\">\n      <th></th>\n      <th>Unnamed: 0</th>\n      <th>Gender</th>\n      <th>EthnicGroup</th>\n      <th>ParentEduc</th>\n      <th>LunchType</th>\n      <th>TestPrep</th>\n      <th>ParentMaritalStatus</th>\n      <th>PracticeSport</th>\n      <th>IsFirstChild</th>\n      <th>NrSiblings</th>\n      <th>TransportMeans</th>\n      <th>WklyStudyHours</th>\n      <th>MathScore</th>\n      <th>ReadingScore</th>\n      <th>WritingScore</th>\n    </tr>\n  </thead>\n  <tbody>\n    <tr>\n      <th>0</th>\n      <td>0</td>\n      <td>female</td>\n      <td>NaN</td>\n      <td>bachelor's degree</td>\n      <td>standard</td>\n      <td>none</td>\n      <td>married</td>\n      <td>regularly</td>\n      <td>yes</td>\n      <td>3.0</td>\n      <td>school_bus</td>\n      <td>&lt; 5</td>\n      <td>71</td>\n      <td>71</td>\n      <td>74</td>\n    </tr>\n    <tr>\n      <th>1</th>\n      <td>1</td>\n      <td>female</td>\n      <td>group C</td>\n      <td>some college</td>\n      <td>standard</td>\n      <td>NaN</td>\n      <td>married</td>\n      <td>sometimes</td>\n      <td>yes</td>\n      <td>0.0</td>\n      <td>NaN</td>\n      <td>5 - 10</td>\n      <td>69</td>\n      <td>90</td>\n      <td>88</td>\n    </tr>\n    <tr>\n      <th>2</th>\n      <td>2</td>\n      <td>female</td>\n      <td>group B</td>\n      <td>master's degree</td>\n      <td>standard</td>\n      <td>none</td>\n      <td>single</td>\n      <td>sometimes</td>\n      <td>yes</td>\n      <td>4.0</td>\n      <td>school_bus</td>\n      <td>&lt; 5</td>\n      <td>87</td>\n      <td>93</td>\n      <td>91</td>\n    </tr>\n    <tr>\n      <th>3</th>\n      <td>3</td>\n      <td>male</td>\n      <td>group A</td>\n      <td>associate's degree</td>\n      <td>free/reduced</td>\n      <td>none</td>\n      <td>married</td>\n      <td>never</td>\n      <td>no</td>\n      <td>1.0</td>\n      <td>NaN</td>\n      <td>5 - 10</td>\n      <td>45</td>\n      <td>56</td>\n      <td>42</td>\n    </tr>\n    <tr>\n      <th>4</th>\n      <td>4</td>\n      <td>male</td>\n      <td>group C</td>\n      <td>some college</td>\n      <td>standard</td>\n      <td>none</td>\n      <td>married</td>\n      <td>sometimes</td>\n      <td>yes</td>\n      <td>0.0</td>\n      <td>school_bus</td>\n      <td>5 - 10</td>\n      <td>76</td>\n      <td>78</td>\n      <td>75</td>\n    </tr>\n    <tr>\n      <th>...</th>\n      <td>...</td>\n      <td>...</td>\n      <td>...</td>\n      <td>...</td>\n      <td>...</td>\n      <td>...</td>\n      <td>...</td>\n      <td>...</td>\n      <td>...</td>\n      <td>...</td>\n      <td>...</td>\n      <td>...</td>\n      <td>...</td>\n      <td>...</td>\n      <td>...</td>\n    </tr>\n    <tr>\n      <th>30636</th>\n      <td>816</td>\n      <td>female</td>\n      <td>group D</td>\n      <td>high school</td>\n      <td>standard</td>\n      <td>none</td>\n      <td>single</td>\n      <td>sometimes</td>\n      <td>no</td>\n      <td>2.0</td>\n      <td>school_bus</td>\n      <td>5 - 10</td>\n      <td>59</td>\n      <td>61</td>\n      <td>65</td>\n    </tr>\n    <tr>\n      <th>30637</th>\n      <td>890</td>\n      <td>male</td>\n      <td>group E</td>\n      <td>high school</td>\n      <td>standard</td>\n      <td>none</td>\n      <td>single</td>\n      <td>regularly</td>\n      <td>no</td>\n      <td>1.0</td>\n      <td>private</td>\n      <td>5 - 10</td>\n      <td>58</td>\n      <td>53</td>\n      <td>51</td>\n    </tr>\n    <tr>\n      <th>30638</th>\n      <td>911</td>\n      <td>female</td>\n      <td>NaN</td>\n      <td>high school</td>\n      <td>free/reduced</td>\n      <td>completed</td>\n      <td>married</td>\n      <td>sometimes</td>\n      <td>no</td>\n      <td>1.0</td>\n      <td>private</td>\n      <td>5 - 10</td>\n      <td>61</td>\n      <td>70</td>\n      <td>67</td>\n    </tr>\n    <tr>\n      <th>30639</th>\n      <td>934</td>\n      <td>female</td>\n      <td>group D</td>\n      <td>associate's degree</td>\n      <td>standard</td>\n      <td>completed</td>\n      <td>married</td>\n      <td>regularly</td>\n      <td>no</td>\n      <td>3.0</td>\n      <td>school_bus</td>\n      <td>5 - 10</td>\n      <td>82</td>\n      <td>90</td>\n      <td>93</td>\n    </tr>\n    <tr>\n      <th>30640</th>\n      <td>960</td>\n      <td>male</td>\n      <td>group B</td>\n      <td>some college</td>\n      <td>standard</td>\n      <td>none</td>\n      <td>married</td>\n      <td>never</td>\n      <td>no</td>\n      <td>1.0</td>\n      <td>school_bus</td>\n      <td>5 - 10</td>\n      <td>64</td>\n      <td>60</td>\n      <td>58</td>\n    </tr>\n  </tbody>\n</table>\n<p>30641 rows × 15 columns</p>\n</div>"
     },
     "execution_count": 2,
     "metadata": {},
     "output_type": "execute_result"
    }
   ],
   "source": [
    "univ_df = pd.read_csv( \"expanded.csv\" )\n",
    "univ_df"
   ],
   "metadata": {
    "collapsed": false
   }
  },
  {
   "cell_type": "code",
   "execution_count": 3,
   "outputs": [],
   "source": [
    "#2. Выполпить преобработку данных\n",
    "#1. Числовые переменные пометить меткой float64."
   ],
   "metadata": {
    "collapsed": false
   }
  },
  {
   "cell_type": "code",
   "execution_count": 4,
   "outputs": [
    {
     "data": {
      "text/plain": "       NrSiblings\n0             3.0\n1             0.0\n2             4.0\n3             1.0\n4             0.0\n...           ...\n30636         2.0\n30637         1.0\n30638         1.0\n30639         3.0\n30640         1.0\n\n[30641 rows x 1 columns]",
      "text/html": "<div>\n<style scoped>\n    .dataframe tbody tr th:only-of-type {\n        vertical-align: middle;\n    }\n\n    .dataframe tbody tr th {\n        vertical-align: top;\n    }\n\n    .dataframe thead th {\n        text-align: right;\n    }\n</style>\n<table border=\"1\" class=\"dataframe\">\n  <thead>\n    <tr style=\"text-align: right;\">\n      <th></th>\n      <th>NrSiblings</th>\n    </tr>\n  </thead>\n  <tbody>\n    <tr>\n      <th>0</th>\n      <td>3.0</td>\n    </tr>\n    <tr>\n      <th>1</th>\n      <td>0.0</td>\n    </tr>\n    <tr>\n      <th>2</th>\n      <td>4.0</td>\n    </tr>\n    <tr>\n      <th>3</th>\n      <td>1.0</td>\n    </tr>\n    <tr>\n      <th>4</th>\n      <td>0.0</td>\n    </tr>\n    <tr>\n      <th>...</th>\n      <td>...</td>\n    </tr>\n    <tr>\n      <th>30636</th>\n      <td>2.0</td>\n    </tr>\n    <tr>\n      <th>30637</th>\n      <td>1.0</td>\n    </tr>\n    <tr>\n      <th>30638</th>\n      <td>1.0</td>\n    </tr>\n    <tr>\n      <th>30639</th>\n      <td>3.0</td>\n    </tr>\n    <tr>\n      <th>30640</th>\n      <td>1.0</td>\n    </tr>\n  </tbody>\n</table>\n<p>30641 rows × 1 columns</p>\n</div>"
     },
     "execution_count": 4,
     "metadata": {},
     "output_type": "execute_result"
    }
   ],
   "source": [
    "columns = univ_df.select_dtypes(include=[np.float64]).columns\n",
    "univ_df[columns] = univ_df[columns].astype(np.float64)\n",
    "univ_df[columns]"
   ],
   "metadata": {
    "collapsed": false
   }
  },
  {
   "cell_type": "code",
   "execution_count": 5,
   "outputs": [],
   "source": [
    "#2. Категориальные переменные пометить меткой category."
   ],
   "metadata": {
    "collapsed": false
   }
  },
  {
   "cell_type": "code",
   "execution_count": 6,
   "outputs": [
    {
     "data": {
      "text/plain": "       Gender EthnicGroup          ParentEduc     LunchType   TestPrep  \\\n0      female         NaN   bachelor's degree      standard       none   \n1      female     group C        some college      standard        NaN   \n2      female     group B     master's degree      standard       none   \n3        male     group A  associate's degree  free/reduced       none   \n4        male     group C        some college      standard       none   \n...       ...         ...                 ...           ...        ...   \n30636  female     group D         high school      standard       none   \n30637    male     group E         high school      standard       none   \n30638  female         NaN         high school  free/reduced  completed   \n30639  female     group D  associate's degree      standard  completed   \n30640    male     group B        some college      standard       none   \n\n      ParentMaritalStatus PracticeSport IsFirstChild TransportMeans  \\\n0                 married     regularly          yes     school_bus   \n1                 married     sometimes          yes            NaN   \n2                  single     sometimes          yes     school_bus   \n3                 married         never           no            NaN   \n4                 married     sometimes          yes     school_bus   \n...                   ...           ...          ...            ...   \n30636              single     sometimes           no     school_bus   \n30637              single     regularly           no        private   \n30638             married     sometimes           no        private   \n30639             married     regularly           no     school_bus   \n30640             married         never           no     school_bus   \n\n      WklyStudyHours  \n0                < 5  \n1             5 - 10  \n2                < 5  \n3             5 - 10  \n4             5 - 10  \n...              ...  \n30636         5 - 10  \n30637         5 - 10  \n30638         5 - 10  \n30639         5 - 10  \n30640         5 - 10  \n\n[30641 rows x 10 columns]",
      "text/html": "<div>\n<style scoped>\n    .dataframe tbody tr th:only-of-type {\n        vertical-align: middle;\n    }\n\n    .dataframe tbody tr th {\n        vertical-align: top;\n    }\n\n    .dataframe thead th {\n        text-align: right;\n    }\n</style>\n<table border=\"1\" class=\"dataframe\">\n  <thead>\n    <tr style=\"text-align: right;\">\n      <th></th>\n      <th>Gender</th>\n      <th>EthnicGroup</th>\n      <th>ParentEduc</th>\n      <th>LunchType</th>\n      <th>TestPrep</th>\n      <th>ParentMaritalStatus</th>\n      <th>PracticeSport</th>\n      <th>IsFirstChild</th>\n      <th>TransportMeans</th>\n      <th>WklyStudyHours</th>\n    </tr>\n  </thead>\n  <tbody>\n    <tr>\n      <th>0</th>\n      <td>female</td>\n      <td>NaN</td>\n      <td>bachelor's degree</td>\n      <td>standard</td>\n      <td>none</td>\n      <td>married</td>\n      <td>regularly</td>\n      <td>yes</td>\n      <td>school_bus</td>\n      <td>&lt; 5</td>\n    </tr>\n    <tr>\n      <th>1</th>\n      <td>female</td>\n      <td>group C</td>\n      <td>some college</td>\n      <td>standard</td>\n      <td>NaN</td>\n      <td>married</td>\n      <td>sometimes</td>\n      <td>yes</td>\n      <td>NaN</td>\n      <td>5 - 10</td>\n    </tr>\n    <tr>\n      <th>2</th>\n      <td>female</td>\n      <td>group B</td>\n      <td>master's degree</td>\n      <td>standard</td>\n      <td>none</td>\n      <td>single</td>\n      <td>sometimes</td>\n      <td>yes</td>\n      <td>school_bus</td>\n      <td>&lt; 5</td>\n    </tr>\n    <tr>\n      <th>3</th>\n      <td>male</td>\n      <td>group A</td>\n      <td>associate's degree</td>\n      <td>free/reduced</td>\n      <td>none</td>\n      <td>married</td>\n      <td>never</td>\n      <td>no</td>\n      <td>NaN</td>\n      <td>5 - 10</td>\n    </tr>\n    <tr>\n      <th>4</th>\n      <td>male</td>\n      <td>group C</td>\n      <td>some college</td>\n      <td>standard</td>\n      <td>none</td>\n      <td>married</td>\n      <td>sometimes</td>\n      <td>yes</td>\n      <td>school_bus</td>\n      <td>5 - 10</td>\n    </tr>\n    <tr>\n      <th>...</th>\n      <td>...</td>\n      <td>...</td>\n      <td>...</td>\n      <td>...</td>\n      <td>...</td>\n      <td>...</td>\n      <td>...</td>\n      <td>...</td>\n      <td>...</td>\n      <td>...</td>\n    </tr>\n    <tr>\n      <th>30636</th>\n      <td>female</td>\n      <td>group D</td>\n      <td>high school</td>\n      <td>standard</td>\n      <td>none</td>\n      <td>single</td>\n      <td>sometimes</td>\n      <td>no</td>\n      <td>school_bus</td>\n      <td>5 - 10</td>\n    </tr>\n    <tr>\n      <th>30637</th>\n      <td>male</td>\n      <td>group E</td>\n      <td>high school</td>\n      <td>standard</td>\n      <td>none</td>\n      <td>single</td>\n      <td>regularly</td>\n      <td>no</td>\n      <td>private</td>\n      <td>5 - 10</td>\n    </tr>\n    <tr>\n      <th>30638</th>\n      <td>female</td>\n      <td>NaN</td>\n      <td>high school</td>\n      <td>free/reduced</td>\n      <td>completed</td>\n      <td>married</td>\n      <td>sometimes</td>\n      <td>no</td>\n      <td>private</td>\n      <td>5 - 10</td>\n    </tr>\n    <tr>\n      <th>30639</th>\n      <td>female</td>\n      <td>group D</td>\n      <td>associate's degree</td>\n      <td>standard</td>\n      <td>completed</td>\n      <td>married</td>\n      <td>regularly</td>\n      <td>no</td>\n      <td>school_bus</td>\n      <td>5 - 10</td>\n    </tr>\n    <tr>\n      <th>30640</th>\n      <td>male</td>\n      <td>group B</td>\n      <td>some college</td>\n      <td>standard</td>\n      <td>none</td>\n      <td>married</td>\n      <td>never</td>\n      <td>no</td>\n      <td>school_bus</td>\n      <td>5 - 10</td>\n    </tr>\n  </tbody>\n</table>\n<p>30641 rows × 10 columns</p>\n</div>"
     },
     "execution_count": 6,
     "metadata": {},
     "output_type": "execute_result"
    }
   ],
   "source": [
    "columns = univ_df.select_dtypes(include=[object]).columns\n",
    "univ_df[columns] = univ_df[columns].astype('category')\n",
    "univ_df[columns]"
   ],
   "metadata": {
    "collapsed": false
   }
  },
  {
   "cell_type": "code",
   "execution_count": 7,
   "outputs": [
    {
     "data": {
      "text/plain": "Unnamed: 0                int64\nGender                 category\nEthnicGroup            category\nParentEduc             category\nLunchType              category\nTestPrep               category\nParentMaritalStatus    category\nPracticeSport          category\nIsFirstChild           category\nNrSiblings              float64\nTransportMeans         category\nWklyStudyHours         category\nMathScore                 int64\nReadingScore              int64\nWritingScore              int64\ndtype: object"
     },
     "execution_count": 7,
     "metadata": {},
     "output_type": "execute_result"
    }
   ],
   "source": [
    "univ_df.dtypes"
   ],
   "metadata": {
    "collapsed": false
   }
  },
  {
   "cell_type": "code",
   "execution_count": 8,
   "outputs": [],
   "source": [
    "#3. Вывести tail, head набора данных"
   ],
   "metadata": {
    "collapsed": false
   }
  },
  {
   "cell_type": "code",
   "execution_count": 9,
   "outputs": [
    {
     "data": {
      "text/plain": "       Unnamed: 0  Gender EthnicGroup          ParentEduc     LunchType  \\\n30636         816  female     group D         high school      standard   \n30637         890    male     group E         high school      standard   \n30638         911  female         NaN         high school  free/reduced   \n30639         934  female     group D  associate's degree      standard   \n30640         960    male     group B        some college      standard   \n\n        TestPrep ParentMaritalStatus PracticeSport IsFirstChild  NrSiblings  \\\n30636       none              single     sometimes           no         2.0   \n30637       none              single     regularly           no         1.0   \n30638  completed             married     sometimes           no         1.0   \n30639  completed             married     regularly           no         3.0   \n30640       none             married         never           no         1.0   \n\n      TransportMeans WklyStudyHours  MathScore  ReadingScore  WritingScore  \n30636     school_bus         5 - 10         59            61            65  \n30637        private         5 - 10         58            53            51  \n30638        private         5 - 10         61            70            67  \n30639     school_bus         5 - 10         82            90            93  \n30640     school_bus         5 - 10         64            60            58  ",
      "text/html": "<div>\n<style scoped>\n    .dataframe tbody tr th:only-of-type {\n        vertical-align: middle;\n    }\n\n    .dataframe tbody tr th {\n        vertical-align: top;\n    }\n\n    .dataframe thead th {\n        text-align: right;\n    }\n</style>\n<table border=\"1\" class=\"dataframe\">\n  <thead>\n    <tr style=\"text-align: right;\">\n      <th></th>\n      <th>Unnamed: 0</th>\n      <th>Gender</th>\n      <th>EthnicGroup</th>\n      <th>ParentEduc</th>\n      <th>LunchType</th>\n      <th>TestPrep</th>\n      <th>ParentMaritalStatus</th>\n      <th>PracticeSport</th>\n      <th>IsFirstChild</th>\n      <th>NrSiblings</th>\n      <th>TransportMeans</th>\n      <th>WklyStudyHours</th>\n      <th>MathScore</th>\n      <th>ReadingScore</th>\n      <th>WritingScore</th>\n    </tr>\n  </thead>\n  <tbody>\n    <tr>\n      <th>30636</th>\n      <td>816</td>\n      <td>female</td>\n      <td>group D</td>\n      <td>high school</td>\n      <td>standard</td>\n      <td>none</td>\n      <td>single</td>\n      <td>sometimes</td>\n      <td>no</td>\n      <td>2.0</td>\n      <td>school_bus</td>\n      <td>5 - 10</td>\n      <td>59</td>\n      <td>61</td>\n      <td>65</td>\n    </tr>\n    <tr>\n      <th>30637</th>\n      <td>890</td>\n      <td>male</td>\n      <td>group E</td>\n      <td>high school</td>\n      <td>standard</td>\n      <td>none</td>\n      <td>single</td>\n      <td>regularly</td>\n      <td>no</td>\n      <td>1.0</td>\n      <td>private</td>\n      <td>5 - 10</td>\n      <td>58</td>\n      <td>53</td>\n      <td>51</td>\n    </tr>\n    <tr>\n      <th>30638</th>\n      <td>911</td>\n      <td>female</td>\n      <td>NaN</td>\n      <td>high school</td>\n      <td>free/reduced</td>\n      <td>completed</td>\n      <td>married</td>\n      <td>sometimes</td>\n      <td>no</td>\n      <td>1.0</td>\n      <td>private</td>\n      <td>5 - 10</td>\n      <td>61</td>\n      <td>70</td>\n      <td>67</td>\n    </tr>\n    <tr>\n      <th>30639</th>\n      <td>934</td>\n      <td>female</td>\n      <td>group D</td>\n      <td>associate's degree</td>\n      <td>standard</td>\n      <td>completed</td>\n      <td>married</td>\n      <td>regularly</td>\n      <td>no</td>\n      <td>3.0</td>\n      <td>school_bus</td>\n      <td>5 - 10</td>\n      <td>82</td>\n      <td>90</td>\n      <td>93</td>\n    </tr>\n    <tr>\n      <th>30640</th>\n      <td>960</td>\n      <td>male</td>\n      <td>group B</td>\n      <td>some college</td>\n      <td>standard</td>\n      <td>none</td>\n      <td>married</td>\n      <td>never</td>\n      <td>no</td>\n      <td>1.0</td>\n      <td>school_bus</td>\n      <td>5 - 10</td>\n      <td>64</td>\n      <td>60</td>\n      <td>58</td>\n    </tr>\n  </tbody>\n</table>\n</div>"
     },
     "execution_count": 9,
     "metadata": {},
     "output_type": "execute_result"
    }
   ],
   "source": [
    "univ_df.tail()"
   ],
   "metadata": {
    "collapsed": false
   }
  },
  {
   "cell_type": "code",
   "execution_count": 10,
   "outputs": [
    {
     "data": {
      "text/plain": "   Unnamed: 0  Gender EthnicGroup          ParentEduc     LunchType TestPrep  \\\n0           0  female         NaN   bachelor's degree      standard     none   \n1           1  female     group C        some college      standard      NaN   \n2           2  female     group B     master's degree      standard     none   \n3           3    male     group A  associate's degree  free/reduced     none   \n4           4    male     group C        some college      standard     none   \n\n  ParentMaritalStatus PracticeSport IsFirstChild  NrSiblings TransportMeans  \\\n0             married     regularly          yes         3.0     school_bus   \n1             married     sometimes          yes         0.0            NaN   \n2              single     sometimes          yes         4.0     school_bus   \n3             married         never           no         1.0            NaN   \n4             married     sometimes          yes         0.0     school_bus   \n\n  WklyStudyHours  MathScore  ReadingScore  WritingScore  \n0            < 5         71            71            74  \n1         5 - 10         69            90            88  \n2            < 5         87            93            91  \n3         5 - 10         45            56            42  \n4         5 - 10         76            78            75  ",
      "text/html": "<div>\n<style scoped>\n    .dataframe tbody tr th:only-of-type {\n        vertical-align: middle;\n    }\n\n    .dataframe tbody tr th {\n        vertical-align: top;\n    }\n\n    .dataframe thead th {\n        text-align: right;\n    }\n</style>\n<table border=\"1\" class=\"dataframe\">\n  <thead>\n    <tr style=\"text-align: right;\">\n      <th></th>\n      <th>Unnamed: 0</th>\n      <th>Gender</th>\n      <th>EthnicGroup</th>\n      <th>ParentEduc</th>\n      <th>LunchType</th>\n      <th>TestPrep</th>\n      <th>ParentMaritalStatus</th>\n      <th>PracticeSport</th>\n      <th>IsFirstChild</th>\n      <th>NrSiblings</th>\n      <th>TransportMeans</th>\n      <th>WklyStudyHours</th>\n      <th>MathScore</th>\n      <th>ReadingScore</th>\n      <th>WritingScore</th>\n    </tr>\n  </thead>\n  <tbody>\n    <tr>\n      <th>0</th>\n      <td>0</td>\n      <td>female</td>\n      <td>NaN</td>\n      <td>bachelor's degree</td>\n      <td>standard</td>\n      <td>none</td>\n      <td>married</td>\n      <td>regularly</td>\n      <td>yes</td>\n      <td>3.0</td>\n      <td>school_bus</td>\n      <td>&lt; 5</td>\n      <td>71</td>\n      <td>71</td>\n      <td>74</td>\n    </tr>\n    <tr>\n      <th>1</th>\n      <td>1</td>\n      <td>female</td>\n      <td>group C</td>\n      <td>some college</td>\n      <td>standard</td>\n      <td>NaN</td>\n      <td>married</td>\n      <td>sometimes</td>\n      <td>yes</td>\n      <td>0.0</td>\n      <td>NaN</td>\n      <td>5 - 10</td>\n      <td>69</td>\n      <td>90</td>\n      <td>88</td>\n    </tr>\n    <tr>\n      <th>2</th>\n      <td>2</td>\n      <td>female</td>\n      <td>group B</td>\n      <td>master's degree</td>\n      <td>standard</td>\n      <td>none</td>\n      <td>single</td>\n      <td>sometimes</td>\n      <td>yes</td>\n      <td>4.0</td>\n      <td>school_bus</td>\n      <td>&lt; 5</td>\n      <td>87</td>\n      <td>93</td>\n      <td>91</td>\n    </tr>\n    <tr>\n      <th>3</th>\n      <td>3</td>\n      <td>male</td>\n      <td>group A</td>\n      <td>associate's degree</td>\n      <td>free/reduced</td>\n      <td>none</td>\n      <td>married</td>\n      <td>never</td>\n      <td>no</td>\n      <td>1.0</td>\n      <td>NaN</td>\n      <td>5 - 10</td>\n      <td>45</td>\n      <td>56</td>\n      <td>42</td>\n    </tr>\n    <tr>\n      <th>4</th>\n      <td>4</td>\n      <td>male</td>\n      <td>group C</td>\n      <td>some college</td>\n      <td>standard</td>\n      <td>none</td>\n      <td>married</td>\n      <td>sometimes</td>\n      <td>yes</td>\n      <td>0.0</td>\n      <td>school_bus</td>\n      <td>5 - 10</td>\n      <td>76</td>\n      <td>78</td>\n      <td>75</td>\n    </tr>\n  </tbody>\n</table>\n</div>"
     },
     "execution_count": 10,
     "metadata": {},
     "output_type": "execute_result"
    }
   ],
   "source": [
    "univ_df.head()"
   ],
   "metadata": {
    "collapsed": false
   }
  },
  {
   "cell_type": "code",
   "execution_count": 11,
   "outputs": [],
   "source": [
    "#4. Вывести df.info"
   ],
   "metadata": {
    "collapsed": false
   }
  },
  {
   "cell_type": "code",
   "execution_count": 12,
   "outputs": [
    {
     "data": {
      "text/plain": "<bound method DataFrame.info of        Unnamed: 0  Gender EthnicGroup          ParentEduc     LunchType  \\\n0               0  female         NaN   bachelor's degree      standard   \n1               1  female     group C        some college      standard   \n2               2  female     group B     master's degree      standard   \n3               3    male     group A  associate's degree  free/reduced   \n4               4    male     group C        some college      standard   \n...           ...     ...         ...                 ...           ...   \n30636         816  female     group D         high school      standard   \n30637         890    male     group E         high school      standard   \n30638         911  female         NaN         high school  free/reduced   \n30639         934  female     group D  associate's degree      standard   \n30640         960    male     group B        some college      standard   \n\n        TestPrep ParentMaritalStatus PracticeSport IsFirstChild  NrSiblings  \\\n0           none             married     regularly          yes         3.0   \n1            NaN             married     sometimes          yes         0.0   \n2           none              single     sometimes          yes         4.0   \n3           none             married         never           no         1.0   \n4           none             married     sometimes          yes         0.0   \n...          ...                 ...           ...          ...         ...   \n30636       none              single     sometimes           no         2.0   \n30637       none              single     regularly           no         1.0   \n30638  completed             married     sometimes           no         1.0   \n30639  completed             married     regularly           no         3.0   \n30640       none             married         never           no         1.0   \n\n      TransportMeans WklyStudyHours  MathScore  ReadingScore  WritingScore  \n0         school_bus            < 5         71            71            74  \n1                NaN         5 - 10         69            90            88  \n2         school_bus            < 5         87            93            91  \n3                NaN         5 - 10         45            56            42  \n4         school_bus         5 - 10         76            78            75  \n...              ...            ...        ...           ...           ...  \n30636     school_bus         5 - 10         59            61            65  \n30637        private         5 - 10         58            53            51  \n30638        private         5 - 10         61            70            67  \n30639     school_bus         5 - 10         82            90            93  \n30640     school_bus         5 - 10         64            60            58  \n\n[30641 rows x 15 columns]>"
     },
     "execution_count": 12,
     "metadata": {},
     "output_type": "execute_result"
    }
   ],
   "source": [
    "univ_df.info"
   ],
   "metadata": {
    "collapsed": false
   }
  },
  {
   "cell_type": "code",
   "execution_count": 13,
   "outputs": [],
   "source": [
    "#5. Вывести статистические показатели .describe()"
   ],
   "metadata": {
    "collapsed": false
   }
  },
  {
   "cell_type": "code",
   "execution_count": 14,
   "outputs": [
    {
     "data": {
      "text/plain": "         Unnamed: 0    NrSiblings     MathScore  ReadingScore  WritingScore\ncount  30641.000000  29069.000000  30641.000000  30641.000000  30641.000000\nmean     499.556607      2.145894     66.558402     69.377533     68.418622\nstd      288.747894      1.458242     15.361616     14.758952     15.443525\nmin        0.000000      0.000000      0.000000     10.000000      4.000000\n25%      249.000000      1.000000     56.000000     59.000000     58.000000\n50%      500.000000      2.000000     67.000000     70.000000     69.000000\n75%      750.000000      3.000000     78.000000     80.000000     79.000000\nmax      999.000000      7.000000    100.000000    100.000000    100.000000",
      "text/html": "<div>\n<style scoped>\n    .dataframe tbody tr th:only-of-type {\n        vertical-align: middle;\n    }\n\n    .dataframe tbody tr th {\n        vertical-align: top;\n    }\n\n    .dataframe thead th {\n        text-align: right;\n    }\n</style>\n<table border=\"1\" class=\"dataframe\">\n  <thead>\n    <tr style=\"text-align: right;\">\n      <th></th>\n      <th>Unnamed: 0</th>\n      <th>NrSiblings</th>\n      <th>MathScore</th>\n      <th>ReadingScore</th>\n      <th>WritingScore</th>\n    </tr>\n  </thead>\n  <tbody>\n    <tr>\n      <th>count</th>\n      <td>30641.000000</td>\n      <td>29069.000000</td>\n      <td>30641.000000</td>\n      <td>30641.000000</td>\n      <td>30641.000000</td>\n    </tr>\n    <tr>\n      <th>mean</th>\n      <td>499.556607</td>\n      <td>2.145894</td>\n      <td>66.558402</td>\n      <td>69.377533</td>\n      <td>68.418622</td>\n    </tr>\n    <tr>\n      <th>std</th>\n      <td>288.747894</td>\n      <td>1.458242</td>\n      <td>15.361616</td>\n      <td>14.758952</td>\n      <td>15.443525</td>\n    </tr>\n    <tr>\n      <th>min</th>\n      <td>0.000000</td>\n      <td>0.000000</td>\n      <td>0.000000</td>\n      <td>10.000000</td>\n      <td>4.000000</td>\n    </tr>\n    <tr>\n      <th>25%</th>\n      <td>249.000000</td>\n      <td>1.000000</td>\n      <td>56.000000</td>\n      <td>59.000000</td>\n      <td>58.000000</td>\n    </tr>\n    <tr>\n      <th>50%</th>\n      <td>500.000000</td>\n      <td>2.000000</td>\n      <td>67.000000</td>\n      <td>70.000000</td>\n      <td>69.000000</td>\n    </tr>\n    <tr>\n      <th>75%</th>\n      <td>750.000000</td>\n      <td>3.000000</td>\n      <td>78.000000</td>\n      <td>80.000000</td>\n      <td>79.000000</td>\n    </tr>\n    <tr>\n      <th>max</th>\n      <td>999.000000</td>\n      <td>7.000000</td>\n      <td>100.000000</td>\n      <td>100.000000</td>\n      <td>100.000000</td>\n    </tr>\n  </tbody>\n</table>\n</div>"
     },
     "execution_count": 14,
     "metadata": {},
     "output_type": "execute_result"
    }
   ],
   "source": [
    "univ_df.describe()"
   ],
   "metadata": {
    "collapsed": false
   }
  },
  {
   "cell_type": "code",
   "execution_count": 15,
   "outputs": [],
   "source": [
    "#3. Выполнить поиск признаков, содержащих NaN, и вычислить их"
   ],
   "metadata": {
    "collapsed": false
   }
  },
  {
   "cell_type": "code",
   "execution_count": 16,
   "outputs": [
    {
     "name": "stdout",
     "output_type": "stream",
     "text": [
      "EthnicGroup\n",
      "Nan:  1840\n",
      "count       28801\n",
      "unique          5\n",
      "top       group C\n",
      "freq         9212\n",
      "Name: EthnicGroup, dtype: object\n",
      "_______________________________\n",
      "ParentEduc\n",
      "Nan:  1845\n",
      "count            28796\n",
      "unique               6\n",
      "top       some college\n",
      "freq              6633\n",
      "Name: ParentEduc, dtype: object\n",
      "_______________________________\n",
      "TestPrep\n",
      "Nan:  1830\n",
      "count     28811\n",
      "unique        2\n",
      "top        none\n",
      "freq      18856\n",
      "Name: TestPrep, dtype: object\n",
      "_______________________________\n",
      "ParentMaritalStatus\n",
      "Nan:  1190\n",
      "count       29451\n",
      "unique          4\n",
      "top       married\n",
      "freq        16844\n",
      "Name: ParentMaritalStatus, dtype: object\n",
      "_______________________________\n",
      "PracticeSport\n",
      "Nan:  631\n",
      "count         30010\n",
      "unique            3\n",
      "top       sometimes\n",
      "freq          15213\n",
      "Name: PracticeSport, dtype: object\n",
      "_______________________________\n",
      "IsFirstChild\n",
      "Nan:  904\n",
      "count     29737\n",
      "unique        2\n",
      "top         yes\n",
      "freq      19082\n",
      "Name: IsFirstChild, dtype: object\n",
      "_______________________________\n",
      "NrSiblings\n",
      "Nan:  1572\n",
      "count    29069.000000\n",
      "mean         2.145894\n",
      "std          1.458242\n",
      "min          0.000000\n",
      "25%          1.000000\n",
      "50%          2.000000\n",
      "75%          3.000000\n",
      "max          7.000000\n",
      "Name: NrSiblings, dtype: float64\n",
      "_______________________________\n",
      "TransportMeans\n",
      "Nan:  3134\n",
      "count          27507\n",
      "unique             2\n",
      "top       school_bus\n",
      "freq           16145\n",
      "Name: TransportMeans, dtype: object\n",
      "_______________________________\n",
      "WklyStudyHours\n",
      "Nan:  955\n",
      "count      29686\n",
      "unique         3\n",
      "top       5 - 10\n",
      "freq       16246\n",
      "Name: WklyStudyHours, dtype: object\n",
      "_______________________________\n"
     ]
    }
   ],
   "source": [
    "for column in univ_df.columns.tolist():\n",
    "    a = univ_df[column].isnull().sum(0)\n",
    "    if a > 0:\n",
    "        print(column)\n",
    "        print(\"Nan: \", univ_df[column].isnull().sum(0))\n",
    "        print(univ_df[column].describe())\n",
    "        print(\"_______________________________\")"
   ],
   "metadata": {
    "collapsed": false
   }
  },
  {
   "cell_type": "code",
   "execution_count": 17,
   "outputs": [],
   "source": [
    "#4. Применить методы восстановления значений признака:\n",
    "#1. Применить методы замены пропусков для числовых значений: среднее, медиана, на основе корреляции,\n",
    "# на основе расстояния (любой). Объяснить результат (какой из методов более подходит для восстановление значения признака)\n",
    "#Среднее"
   ],
   "metadata": {
    "collapsed": false
   }
  },
  {
   "cell_type": "code",
   "execution_count": 18,
   "outputs": [
    {
     "name": "stdout",
     "output_type": "stream",
     "text": [
      "NrSiblings\n",
      "       NrSiblings\n",
      "9             NaN\n",
      "34            NaN\n",
      "44            NaN\n",
      "50            NaN\n",
      "56            NaN\n",
      "...           ...\n",
      "30565         NaN\n",
      "30596         NaN\n",
      "30602         NaN\n",
      "30614         NaN\n",
      "30627         NaN\n",
      "\n",
      "[1572 rows x 1 columns]\n",
      "     NrSiblings\n",
      "171         5.0\n",
      "172         1.0\n",
      "173         4.0\n",
      "174         3.0\n",
      "175         1.0\n",
      "176         2.0\n",
      "177         2.0\n",
      "178         3.0\n",
      "179         4.0\n",
      "     NrSiblings\n",
      "171    0.011303\n",
      "172    0.002261\n",
      "173    0.009043\n",
      "174    0.006782\n",
      "175    0.002261\n",
      "176    0.004521\n",
      "177    0.004521\n",
      "178    0.006782\n",
      "179    0.009043\n"
     ]
    }
   ],
   "source": [
    "from sklearn import preprocessing\n",
    "from sklearn.preprocessing import StandardScaler\n",
    "\n",
    "newDataMean = univ_df.copy()\n",
    "\n",
    "newDataMean.dtypes\n",
    "for column in newDataMean.columns.tolist():\n",
    "    if newDataMean[column].dtype != np.float64:\n",
    "        newDataMean.drop(columns = column, axis=1, inplace=True)\n",
    "\n",
    "for column in newDataMean.columns.tolist():\n",
    "     print(column)\n",
    "     print(newDataMean[newDataMean[column].isnull()])\n",
    "     newDataMean[column] = newDataMean[column].fillna(0);\n",
    "\n",
    "\n",
    "\n",
    "print(newDataMean.iloc[171:180])\n",
    "\n",
    "newArrayMeanNormilize = preprocessing.normalize(newDataMean, axis=0)\n",
    "\n",
    "\n",
    "namesColumn = newDataMean.columns\n",
    "\n",
    "\n",
    "newFd = pd.DataFrame(newArrayMeanNormilize, columns = namesColumn)\n",
    "\n",
    "\n",
    "for column in newFd.columns.tolist():\n",
    "    newFd.loc[(newFd[column] == 0.0), column] = newFd[column].mean()\n",
    "\n",
    "print(newFd.iloc[171:180])"
   ],
   "metadata": {
    "collapsed": false
   }
  },
  {
   "cell_type": "code",
   "execution_count": 19,
   "outputs": [],
   "source": [
    "#Медиана"
   ],
   "metadata": {
    "collapsed": false
   }
  },
  {
   "cell_type": "code",
   "execution_count": 20,
   "outputs": [
    {
     "name": "stdout",
     "output_type": "stream",
     "text": [
      "NrSiblings\n",
      "       NrSiblings\n",
      "9             NaN\n",
      "34            NaN\n",
      "44            NaN\n",
      "50            NaN\n",
      "56            NaN\n",
      "...           ...\n",
      "30565         NaN\n",
      "30596         NaN\n",
      "30602         NaN\n",
      "30614         NaN\n",
      "30627         NaN\n",
      "\n",
      "[1572 rows x 1 columns]\n",
      "     NrSiblings\n",
      "171         5.0\n",
      "172         1.0\n",
      "173         4.0\n",
      "174         3.0\n",
      "175         1.0\n",
      "176         2.0\n",
      "177         2.0\n",
      "178         3.0\n",
      "179         4.0\n",
      "     NrSiblings\n",
      "171    0.011303\n",
      "172    0.002261\n",
      "173    0.009043\n",
      "174    0.006782\n",
      "175    0.002261\n",
      "176    0.004521\n",
      "177    0.004521\n",
      "178    0.006782\n",
      "179    0.009043\n"
     ]
    }
   ],
   "source": [
    "newDataMedian = univ_df.copy()\n",
    "\n",
    "newDataMedian.dtypes\n",
    "for column in newDataMedian.columns.tolist():\n",
    "    if newDataMedian[column].dtype != np.float64:\n",
    "        newDataMedian.drop(columns = column, axis=1, inplace=True)\n",
    "\n",
    "for column in newDataMedian.columns.tolist():\n",
    "     print(column)\n",
    "     print(newDataMedian[newDataMedian[column].isnull()])\n",
    "     newDataMedian[column] = newDataMedian[column].fillna(0);\n",
    "\n",
    "\n",
    "print(newDataMedian.iloc[171:180])\n",
    "\n",
    "newArrayMedianNormilize = preprocessing.normalize(newDataMedian, axis=0)\n",
    "\n",
    "namesColumn = newDataMedian.columns\n",
    "\n",
    "\n",
    "newFdMed = pd.DataFrame(newArrayMedianNormilize, columns = namesColumn)\n",
    "\n",
    "\n",
    "for column in newFdMed.columns.tolist():\n",
    "    newFdMed.loc[(newFdMed[column] == 0.0), column] = newFdMed[column].median()\n",
    "\n",
    "print(newFdMed.iloc[171:180])"
   ],
   "metadata": {
    "collapsed": false
   }
  },
  {
   "cell_type": "code",
   "execution_count": 21,
   "outputs": [],
   "source": [
    "#Корреляция"
   ],
   "metadata": {
    "collapsed": false
   }
  },
  {
   "cell_type": "code",
   "execution_count": 22,
   "outputs": [
    {
     "name": "stdout",
     "output_type": "stream",
     "text": [
      "NrSiblings\n",
      "       NrSiblings\n",
      "9             NaN\n",
      "34            NaN\n",
      "44            NaN\n",
      "50            NaN\n",
      "56            NaN\n",
      "...           ...\n",
      "30565         NaN\n",
      "30596         NaN\n",
      "30602         NaN\n",
      "30614         NaN\n",
      "30627         NaN\n",
      "\n",
      "[1572 rows x 1 columns]\n",
      "     NrSiblings\n",
      "171         5.0\n",
      "172         1.0\n",
      "173         4.0\n",
      "174         3.0\n",
      "175         1.0\n",
      "176         2.0\n",
      "177         2.0\n",
      "178         3.0\n",
      "179         4.0\n"
     ]
    },
    {
     "ename": "KeyError",
     "evalue": "'Years of Experience'",
     "output_type": "error",
     "traceback": [
      "\u001B[1;31m---------------------------------------------------------------------------\u001B[0m",
      "\u001B[1;31mKeyError\u001B[0m                                  Traceback (most recent call last)",
      "File \u001B[1;32m~\\PycharmProjects\\pythonProject\\venv\\lib\\site-packages\\pandas\\core\\indexes\\base.py:3802\u001B[0m, in \u001B[0;36mIndex.get_loc\u001B[1;34m(self, key, method, tolerance)\u001B[0m\n\u001B[0;32m   3801\u001B[0m \u001B[38;5;28;01mtry\u001B[39;00m:\n\u001B[1;32m-> 3802\u001B[0m     \u001B[38;5;28;01mreturn\u001B[39;00m \u001B[38;5;28;43mself\u001B[39;49m\u001B[38;5;241;43m.\u001B[39;49m\u001B[43m_engine\u001B[49m\u001B[38;5;241;43m.\u001B[39;49m\u001B[43mget_loc\u001B[49m\u001B[43m(\u001B[49m\u001B[43mcasted_key\u001B[49m\u001B[43m)\u001B[49m\n\u001B[0;32m   3803\u001B[0m \u001B[38;5;28;01mexcept\u001B[39;00m \u001B[38;5;167;01mKeyError\u001B[39;00m \u001B[38;5;28;01mas\u001B[39;00m err:\n",
      "File \u001B[1;32m~\\PycharmProjects\\pythonProject\\venv\\lib\\site-packages\\pandas\\_libs\\index.pyx:138\u001B[0m, in \u001B[0;36mpandas._libs.index.IndexEngine.get_loc\u001B[1;34m()\u001B[0m\n",
      "File \u001B[1;32m~\\PycharmProjects\\pythonProject\\venv\\lib\\site-packages\\pandas\\_libs\\index.pyx:165\u001B[0m, in \u001B[0;36mpandas._libs.index.IndexEngine.get_loc\u001B[1;34m()\u001B[0m\n",
      "File \u001B[1;32mpandas\\_libs\\hashtable_class_helper.pxi:5745\u001B[0m, in \u001B[0;36mpandas._libs.hashtable.PyObjectHashTable.get_item\u001B[1;34m()\u001B[0m\n",
      "File \u001B[1;32mpandas\\_libs\\hashtable_class_helper.pxi:5753\u001B[0m, in \u001B[0;36mpandas._libs.hashtable.PyObjectHashTable.get_item\u001B[1;34m()\u001B[0m\n",
      "\u001B[1;31mKeyError\u001B[0m: 'Years of Experience'",
      "\nThe above exception was the direct cause of the following exception:\n",
      "\u001B[1;31mKeyError\u001B[0m                                  Traceback (most recent call last)",
      "Cell \u001B[1;32mIn[22], line 28\u001B[0m\n\u001B[0;32m     26\u001B[0m         newFdKK\u001B[38;5;241m.\u001B[39mloc[(newFdKK[column] \u001B[38;5;241m==\u001B[39m \u001B[38;5;241m0.0\u001B[39m), column] \u001B[38;5;241m=\u001B[39m newFdKK[column]\u001B[38;5;241m.\u001B[39mmedian()\n\u001B[0;32m     27\u001B[0m     \u001B[38;5;28;01melse\u001B[39;00m:\n\u001B[1;32m---> 28\u001B[0m         newFdKK\u001B[38;5;241m.\u001B[39mloc[(newFdKK[column] \u001B[38;5;241m==\u001B[39m \u001B[38;5;241m0.0\u001B[39m), column] \u001B[38;5;241m=\u001B[39m newFdKK[column]\u001B[38;5;241m.\u001B[39mcorr(\u001B[43mnewFdKK\u001B[49m\u001B[43m[\u001B[49m\u001B[38;5;124;43m\"\u001B[39;49m\u001B[38;5;124;43mYears of Experience\u001B[39;49m\u001B[38;5;124;43m\"\u001B[39;49m\u001B[43m]\u001B[49m)\n\u001B[0;32m     30\u001B[0m \u001B[38;5;28mprint\u001B[39m(newFdKK\u001B[38;5;241m.\u001B[39miloc[\u001B[38;5;241m171\u001B[39m:\u001B[38;5;241m180\u001B[39m])\n",
      "File \u001B[1;32m~\\PycharmProjects\\pythonProject\\venv\\lib\\site-packages\\pandas\\core\\frame.py:3807\u001B[0m, in \u001B[0;36mDataFrame.__getitem__\u001B[1;34m(self, key)\u001B[0m\n\u001B[0;32m   3805\u001B[0m \u001B[38;5;28;01mif\u001B[39;00m \u001B[38;5;28mself\u001B[39m\u001B[38;5;241m.\u001B[39mcolumns\u001B[38;5;241m.\u001B[39mnlevels \u001B[38;5;241m>\u001B[39m \u001B[38;5;241m1\u001B[39m:\n\u001B[0;32m   3806\u001B[0m     \u001B[38;5;28;01mreturn\u001B[39;00m \u001B[38;5;28mself\u001B[39m\u001B[38;5;241m.\u001B[39m_getitem_multilevel(key)\n\u001B[1;32m-> 3807\u001B[0m indexer \u001B[38;5;241m=\u001B[39m \u001B[38;5;28;43mself\u001B[39;49m\u001B[38;5;241;43m.\u001B[39;49m\u001B[43mcolumns\u001B[49m\u001B[38;5;241;43m.\u001B[39;49m\u001B[43mget_loc\u001B[49m\u001B[43m(\u001B[49m\u001B[43mkey\u001B[49m\u001B[43m)\u001B[49m\n\u001B[0;32m   3808\u001B[0m \u001B[38;5;28;01mif\u001B[39;00m is_integer(indexer):\n\u001B[0;32m   3809\u001B[0m     indexer \u001B[38;5;241m=\u001B[39m [indexer]\n",
      "File \u001B[1;32m~\\PycharmProjects\\pythonProject\\venv\\lib\\site-packages\\pandas\\core\\indexes\\base.py:3804\u001B[0m, in \u001B[0;36mIndex.get_loc\u001B[1;34m(self, key, method, tolerance)\u001B[0m\n\u001B[0;32m   3802\u001B[0m     \u001B[38;5;28;01mreturn\u001B[39;00m \u001B[38;5;28mself\u001B[39m\u001B[38;5;241m.\u001B[39m_engine\u001B[38;5;241m.\u001B[39mget_loc(casted_key)\n\u001B[0;32m   3803\u001B[0m \u001B[38;5;28;01mexcept\u001B[39;00m \u001B[38;5;167;01mKeyError\u001B[39;00m \u001B[38;5;28;01mas\u001B[39;00m err:\n\u001B[1;32m-> 3804\u001B[0m     \u001B[38;5;28;01mraise\u001B[39;00m \u001B[38;5;167;01mKeyError\u001B[39;00m(key) \u001B[38;5;28;01mfrom\u001B[39;00m \u001B[38;5;21;01merr\u001B[39;00m\n\u001B[0;32m   3805\u001B[0m \u001B[38;5;28;01mexcept\u001B[39;00m \u001B[38;5;167;01mTypeError\u001B[39;00m:\n\u001B[0;32m   3806\u001B[0m     \u001B[38;5;66;03m# If we have a listlike key, _check_indexing_error will raise\u001B[39;00m\n\u001B[0;32m   3807\u001B[0m     \u001B[38;5;66;03m#  InvalidIndexError. Otherwise we fall through and re-raise\u001B[39;00m\n\u001B[0;32m   3808\u001B[0m     \u001B[38;5;66;03m#  the TypeError.\u001B[39;00m\n\u001B[0;32m   3809\u001B[0m     \u001B[38;5;28mself\u001B[39m\u001B[38;5;241m.\u001B[39m_check_indexing_error(key)\n",
      "\u001B[1;31mKeyError\u001B[0m: 'Years of Experience'"
     ]
    }
   ],
   "source": [
    "newDataKK = univ_df.copy()\n",
    "\n",
    "newDataKK.dtypes\n",
    "for column in newDataKK.columns.tolist():\n",
    "    if newDataKK[column].dtype != np.float64:\n",
    "        newDataKK.drop(columns = column, axis=1, inplace=True)\n",
    "\n",
    "for column in newDataKK.columns.tolist():\n",
    "     print(column)\n",
    "     print(newDataKK[newDataKK[column].isnull()])\n",
    "     newDataKK[column] = newDataKK[column].fillna(0);\n",
    "\n",
    "\n",
    "print(newDataKK.iloc[171:180])\n",
    "\n",
    "newArrayKKNormilize = preprocessing.normalize(newDataKK, axis=0)\n",
    "\n",
    "namesColumn = newDataKK.columns\n",
    "\n",
    "\n",
    "newFdKK = pd.DataFrame(newArrayKKNormilize, columns = namesColumn)\n",
    "\n",
    "\n",
    "for column in newFdKK.columns.tolist():\n",
    "    if column == \"Age\" or column == \"Years of Experience\":\n",
    "        newFdKK.loc[(newFdKK[column] == 0.0), column] = newFdKK[column].median()\n",
    "    else:\n",
    "        newFdKK.loc[(newFdKK[column] == 0.0), column] = newFdKK[column].corr(newFdKK[\"Years of Experience\"])\n",
    "\n",
    "print(newFdKK.iloc[171:180])"
   ],
   "metadata": {
    "collapsed": false
   }
  },
  {
   "cell_type": "code",
   "execution_count": null,
   "outputs": [],
   "source": [
    "#Метрика"
   ],
   "metadata": {
    "collapsed": false
   }
  },
  {
   "cell_type": "code",
   "execution_count": null,
   "outputs": [],
   "source": [
    "newDataMetric = univ_df.copy()\n",
    "\n",
    "for column in newDataMetric.columns.tolist():\n",
    "    if newDataMetric[column].dtype != np.float64:\n",
    "        newDataMetric.drop(columns = column, axis=1, inplace=True)\n",
    "\n",
    "import math\n",
    "import numpy as np\n",
    "\n",
    "def calc_metr(sample1: np.array, sample2: np.array):\n",
    "    distance = np.sqrt(np.dot(sample1-sample2, sample1-sample2))\n",
    "    return distance\n",
    "\n",
    "df_copied = newDataMetric.copy()\n",
    "for columnsEL, valueEl in newDataMetric.loc[univ_df.MathScore.isnull()].fillna(0).iterrows():\n",
    "        metrics_result = []\n",
    "        print(columnsEL, valueEl.to_numpy())\n",
    "        for columns, values in newDataMetric[~univ_df.MathScore.isnull()].iterrows():\n",
    "\n",
    "            x2 = values.to_numpy()\n",
    "            metric_value = calc_metr(valueEl.to_numpy(), x2)\n",
    "            metrics_result.append(metric_value)\n",
    "\n",
    "        values = univ_df[~univ_df.Salary.isnull()].Salary.to_numpy()\n",
    "        metrics_result = np.array(metrics_result)\n",
    "\n",
    "        normal = 1 / np.sum(1 / metrics_result)\n",
    "        score = np.sum(np.divide(values, metrics_result)) * normal\n",
    "        df_copied.at[columnsEL, 'MathScore'] = score\n",
    "        print(score, \"score\")\n",
    "\n",
    "df_copied.iloc[0:60]"
   ],
   "metadata": {
    "collapsed": false
   }
  },
  {
   "cell_type": "code",
   "execution_count": null,
   "outputs": [],
   "source": [
    "#2. Применить методы замены пропусков для номинальных: на основе моды (можно использовать более сложные методы, например предсказывания на основе других признаков, но если существует связь с этим(-и) признаками, например на основе тестов на значиомсть)\n"
   ],
   "metadata": {
    "collapsed": false
   }
  },
  {
   "cell_type": "code",
   "execution_count": null,
   "outputs": [],
   "source": [
    "newDataModeEl = univ_df.copy()\n",
    "\n",
    "newDataModeEl.dtypes\n",
    "for column in newDataModeEl.columns.tolist():\n",
    "    if newDataModeEl[column].dtype == np.float64:\n",
    "        newDataModeEl.drop(columns = column, axis=1, inplace=True)\n",
    "\n",
    "for column in newDataModeEl.columns.tolist():\n",
    "     print(column)\n",
    "     print(newDataModeEl[newDataModeEl[column].isnull()])\n",
    "     print(\"->\")\n",
    "\n",
    "for column in newDataModeEl.columns.tolist():\n",
    "    newDataModeEl[column] = newDataModeEl[column].fillna(newDataModeEl[column].to_numpy()[0])\n",
    "\n",
    "newDataModeEl.iloc[150:180]"
   ],
   "metadata": {
    "collapsed": false
   }
  },
  {
   "cell_type": "code",
   "execution_count": null,
   "outputs": [],
   "source": [
    "#5. Не забываем про нормирование:"
   ],
   "metadata": {
    "collapsed": false
   }
  },
  {
   "cell_type": "code",
   "execution_count": null,
   "outputs": [],
   "source": [
    "#1. Провести поиск аномалий числовых переменных методами одного признака.\n",
    "  #1.1. На основе простейшего метода из алгоритма 2 (с учетом нормальности)"
   ],
   "metadata": {
    "collapsed": false
   }
  },
  {
   "cell_type": "code",
   "execution_count": null,
   "outputs": [],
   "source": [
    "newDataOuts1 = univ_df.copy()\n",
    "\n",
    "newDataOuts1.dtypes\n",
    "for column in newDataOuts1.columns.tolist():\n",
    "    if newDataOuts1[column].dtype != np.float64:\n",
    "        newDataOuts1.drop(columns = column, axis=1, inplace=True)\n",
    "\n",
    "for column in newDataOuts1.columns.tolist():\n",
    "     print(newDataOuts1[newDataOuts1[column].isnull()])\n",
    "     newDataOuts1[column] = newDataOuts1[column].fillna(0);\n",
    "\n",
    "newArrayOut1Normilize = preprocessing.normalize(newDataOuts1, axis=0)\n",
    "\n",
    "namesColumn = newDataOuts1.columns\n",
    "\n",
    "\n",
    "newFdOut1 = pd.DataFrame(newArrayOut1Normilize, columns = namesColumn)\n",
    "\n",
    "print(newFdOut1.describe());"
   ],
   "metadata": {
    "collapsed": false
   }
  },
  {
   "cell_type": "code",
   "execution_count": null,
   "outputs": [],
   "source": [
    "# 1.2. На основе методов без использование среднего и СКО"
   ],
   "metadata": {
    "collapsed": false
   }
  },
  {
   "cell_type": "code",
   "execution_count": null,
   "outputs": [],
   "source": [
    "newDataOuts2 = univ_df.copy()\n",
    "\n",
    "newDataOuts2.dtypes\n",
    "for column in newDataOuts2.columns.tolist():\n",
    "    if newDataOuts2[column].dtype != np.float64:\n",
    "        newDataOuts2.drop(columns = column, axis=1, inplace=True)\n",
    "\n",
    "for column in newDataOuts2.columns.tolist():\n",
    "     print(newDataOuts2[newDataOuts2[column].isnull()])\n",
    "     newDataOuts2[column] = newDataOuts2[column].fillna(0);\n",
    "\n",
    "newArrayOut2Normilize = preprocessing.normalize(newDataOuts2, axis=0)\n",
    "\n",
    "namesColumn = newDataOuts2.columns\n",
    "\n",
    "newFdOut2 = pd.DataFrame(newArrayOut2Normilize, columns = namesColumn)\n",
    "\n",
    "print(newFdOut2)\n",
    "\n",
    "for column in newFdOut2.columns.tolist():\n",
    "    _, boxplot = newFdOut2.boxplot(column, return_type='both')\n",
    "    outliers = [flier.get_ydata() for flier in boxplot[\"fliers\"]]\n",
    "    print(\"Выбросы для \", column)\n",
    "    print(outliers)\n"
   ],
   "metadata": {
    "collapsed": false
   }
  },
  {
   "cell_type": "code",
   "execution_count": null,
   "outputs": [],
   "source": [
    "#1.4. На основе критерия Шовене\n",
    "\n",
    "import math\n",
    "import statistics as st\n",
    "import pandas as pd\n",
    "import numpy as np\n",
    "\n",
    "def shovene(data):\n",
    "    df=data.iloc[:, 0].tolist()\n",
    "    iteration_counter = 0\n",
    "    pp=[ ]\n",
    "    while True and len(df) > 1:\n",
    "        iteration_counter += 1\n",
    "        stop_iter = True\n",
    "        p_mean = st.mean(df)\n",
    "        p_stdev = st.stdev(df)\n",
    "        print(\"Итерация:\", iteration_counter)\n",
    "        for p in list(df):\n",
    "            if p_stdev > 0 and\\\n",
    "                math.erfc (math.fabs (p-p_mean)/p_stdev)<1/(2*len(df)):\n",
    "                print(\"Обнаружена аномалия:\", p)\n",
    "                pp.append(p)\n",
    "                df.remove(p)\n",
    "                stop_iter = False\n",
    "        if stop_iter:\n",
    "            break\n",
    "    d_float=np.array(pp, dtype=np.float32)\n",
    "    return round((len(d_float)/len(data)*100),2), d_float\n",
    "\n",
    "newDataShov = univ_df.copy()\n",
    "\n",
    "newDataShov.dtypes\n",
    "for column in newDataShov.columns.tolist():\n",
    "    if newDataShov[column].dtype != np.float64:\n",
    "        newDataShov.drop(columns = column, axis=1, inplace=True)\n",
    "\n",
    "for column in newDataShov.columns.tolist():\n",
    "     print(newDataShov[newDataShov[column].isnull()])\n",
    "     newDataShov[column] = newDataShov[column].fillna(0);\n",
    "\n",
    "newArrayShovNormilize = preprocessing.normalize(newDataShov, axis=0)\n",
    "\n",
    "namesColumn = newDataShov.columns\n",
    "\n",
    "\n",
    "newFdShov = pd.DataFrame(newArrayShovNormilize, columns = namesColumn)\n",
    "dd=shovene(newFdShov)\n",
    "print(\"Процент выбросов: \",dd[0], \"\\nВыбросы: \", dd[1])"
   ],
   "metadata": {
    "collapsed": false
   }
  },
  {
   "cell_type": "code",
   "execution_count": null,
   "outputs": [],
   "source": [
    "#6. Тесты на статистическую сенсорность (Не забываем про нормирование):"
   ],
   "metadata": {
    "collapsed": false
   }
  },
  {
   "cell_type": "code",
   "execution_count": null,
   "outputs": [],
   "source": [
    "#1. Выбрать в качестве X и Y числовые переменны\n",
    " #1.1. Проверить на нормальность"
   ],
   "metadata": {
    "collapsed": false
   }
  },
  {
   "cell_type": "code",
   "execution_count": null,
   "outputs": [],
   "source": [
    "import matplotlib.pyplot as plt\n",
    "\n",
    "elementXY = univ_df[[\"ReadingScore\", \"MathScore\"]].copy()\n",
    "\n",
    "for column in elementXY.columns.tolist():\n",
    "     print(elementXY[elementXY[column].isnull()])\n",
    "     elementXY[column] = elementXY[column].fillna(0);\n",
    "\n",
    "\n",
    "newArrayXYNormilize = preprocessing.normalize(elementXY, axis=0)\n",
    "\n",
    "namesColumn = elementXY.columns\n",
    "\n",
    "\n",
    "newFdXY = pd.DataFrame(newArrayXYNormilize, columns = namesColumn)\n",
    "\n",
    "\n",
    "print(newFdXY)\n",
    "\n",
    "plt.scatter(newFdXY[\"MathScore\"], newFdXY[\"ReadingScore\"])\n",
    "plt.plot([min(newFdXY[\"MathScore\"]),max(newFdXY[\"MathScore\"])],[min(newFdXY[\"MathScore\"]),max(newFdXY[\"MathScore\"])],color=\"red\")\n",
    "plt.xlabel(\"MathScore\")\n",
    "plt.ylabel(\"ReadingScore\")\n",
    "plt.show()"
   ],
   "metadata": {
    "collapsed": false
   }
  },
  {
   "cell_type": "code",
   "execution_count": null,
   "outputs": [],
   "source": [
    "#1.2. Применить подходящий метод, объяснить результат"
   ],
   "metadata": {
    "collapsed": false
   }
  },
  {
   "cell_type": "code",
   "execution_count": null,
   "outputs": [],
   "source": [
    "from scipy. stats import ttest_ind\n",
    "\n",
    "elementXY = univ_df[[\"ReadingScore\", \"MathScore\"]].copy()\n",
    "\n",
    "for column in elementXY.columns.tolist():\n",
    "     print(elementXY[elementXY[column].isnull()])\n",
    "     elementXY[column] = elementXY[column].fillna(0);\n",
    "\n",
    "\n",
    "newArrayXYNormilize = preprocessing.normalize(elementXY, axis=0)\n",
    "\n",
    "namesColumn = elementXY.columns\n",
    "\n",
    "\n",
    "newFdXY = pd.DataFrame(newArrayXYNormilize, columns = namesColumn)\n",
    "\n",
    "print(newFdXY)\n",
    "\n",
    "result = ttest_ind(newFdXY[\"MathScore\"], newFdXY[\"ReadingScore\"])\n",
    "print(result)"
   ],
   "metadata": {
    "collapsed": false
   }
  },
  {
   "cell_type": "code",
   "execution_count": null,
   "outputs": [],
   "source": [
    "#2. Выбрать в качестве X и Y числовую и номинальную переменную соответственно"
   ],
   "metadata": {
    "collapsed": false
   }
  },
  {
   "cell_type": "code",
   "execution_count": null,
   "outputs": [],
   "source": [
    "from scipy. stats import ttest_ind\n",
    "\n",
    "elementXY = univ_df[[\"Gender\", \"MathScore\"]].copy()\n",
    "\n",
    "\n",
    "elementXY[\"MathScore\"] = elementXY[\"MathScore\"].fillna(0);\n",
    "\n",
    "group1 = elementXY[elementXY[\"Gender\"] == \"female\"]\n",
    "group2 = elementXY[elementXY[\"Gender\"] == \"male\"]\n",
    "\n",
    "elementXY[\"MathScore\"] = (elementXY[\"MathScore\"]-elementXY[\"MathScore\"].min ())/(elementXY[\"MathScore\"].max ()-elementXY[\"MathScore\"].min ())\n",
    "\n",
    "print(elementXY)\n",
    "\n",
    "result1 = ttest_ind(group1[\"MathScore\"], group2[\"MathScore\"])\n",
    "print(result1)\n"
   ],
   "metadata": {
    "collapsed": false
   }
  },
  {
   "cell_type": "code",
   "execution_count": null,
   "outputs": [],
   "source": [
    "#3. Выбрать в качестве X и Y номинальные переменные"
   ],
   "metadata": {
    "collapsed": false
   }
  },
  {
   "cell_type": "code",
   "execution_count": null,
   "outputs": [],
   "source": [
    "from scipy. stats import ttest_ind\n",
    "from sklearn import preprocessing\n",
    "le = preprocessing.LabelEncoder()\n",
    "\n",
    "elementXY = univ_df[[\"IsFirstChild\", \"Gender\"]].copy()\n",
    "\n",
    "le.fit(elementXY[\"Gender\"])\n",
    "elementXY[\"Gender\"] = le.transform(elementXY[\"Gender\"])\n",
    "\n",
    "le.fit(elementXY[\"IsFirstChild\"])\n",
    "elementXY[\"IsFirstChild\"] = le.transform(elementXY[\"IsFirstChild\"])\n",
    "\n",
    "print(elementXY[(univ_df.Gender == \"Male\")])\n",
    "\n",
    "result1 = ttest_ind(elementXY[\"Gender\"], elementXY[\"IsFirstChild\"])\n"
   ],
   "metadata": {
    "collapsed": false
   }
  },
  {
   "cell_type": "code",
   "execution_count": null,
   "outputs": [],
   "source": [],
   "metadata": {
    "collapsed": false
   }
  }
 ],
 "metadata": {
  "kernelspec": {
   "display_name": "Python 3",
   "language": "python",
   "name": "python3"
  },
  "language_info": {
   "codemirror_mode": {
    "name": "ipython",
    "version": 2
   },
   "file_extension": ".py",
   "mimetype": "text/x-python",
   "name": "python",
   "nbconvert_exporter": "python",
   "pygments_lexer": "ipython2",
   "version": "2.7.6"
  }
 },
 "nbformat": 4,
 "nbformat_minor": 0
}
