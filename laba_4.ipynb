{
 "cells": [
  {
   "cell_type": "code",
   "execution_count": 1,
   "metadata": {
    "collapsed": true
   },
   "outputs": [],
   "source": [
    "import pandas as pd\n",
    "import numpy as np"
   ]
  },
  {
   "cell_type": "code",
   "execution_count": 2,
   "outputs": [
    {
     "data": {
      "text/plain": "       id  battery_power  blue  clock_speed  dual_sim  fc  four_g  int_memory  \\\n0       1           1043     1          1.8         1  14       0           5   \n1       2            841     1          0.5         1   4       1          61   \n2       3           1807     1          2.8         0   1       0          27   \n3       4           1546     0          0.5         1  18       1          25   \n4       5           1434     0          1.4         0  11       1          49   \n..    ...            ...   ...          ...       ...  ..     ...         ...   \n995   996           1700     1          1.9         0   0       1          54   \n996   997            609     0          1.8         1   0       0          13   \n997   998           1185     0          1.4         0   1       1           8   \n998   999           1533     1          0.5         1   0       0          50   \n999  1000           1270     1          0.5         0   4       1          35   \n\n     m_dep  mobile_wt  ...  pc  px_height  px_width   ram  sc_h  sc_w  \\\n0      0.1        193  ...  16        226      1412  3476    12     7   \n1      0.8        191  ...  12        746       857  3895     6     0   \n2      0.9        186  ...   4       1270      1366  2396    17    10   \n3      0.5         96  ...  20        295      1752  3893    10     0   \n4      0.5        108  ...  18        749       810  1773    15     8   \n..     ...        ...  ...  ..        ...       ...   ...   ...   ...   \n995    0.5        170  ...  17        644       913  2121    14     8   \n996    0.9        186  ...   2       1152      1632  1933     8     1   \n997    0.5         80  ...  12        477       825  1223     5     0   \n998    0.4        171  ...  12         38       832  2509    15    11   \n999    0.1        140  ...  19        457       608  2828     9     2   \n\n     talk_time  three_g  touch_screen  wifi  \n0            2        0             1     0  \n1            7        1             0     0  \n2           10        0             1     1  \n3            7        1             1     0  \n4            7        1             0     1  \n..         ...      ...           ...   ...  \n995         15        1             1     0  \n996         19        0             1     1  \n997         14        1             0     0  \n998          6        0             1     0  \n999          3        1             0     1  \n\n[1000 rows x 21 columns]",
      "text/html": "<div>\n<style scoped>\n    .dataframe tbody tr th:only-of-type {\n        vertical-align: middle;\n    }\n\n    .dataframe tbody tr th {\n        vertical-align: top;\n    }\n\n    .dataframe thead th {\n        text-align: right;\n    }\n</style>\n<table border=\"1\" class=\"dataframe\">\n  <thead>\n    <tr style=\"text-align: right;\">\n      <th></th>\n      <th>id</th>\n      <th>battery_power</th>\n      <th>blue</th>\n      <th>clock_speed</th>\n      <th>dual_sim</th>\n      <th>fc</th>\n      <th>four_g</th>\n      <th>int_memory</th>\n      <th>m_dep</th>\n      <th>mobile_wt</th>\n      <th>...</th>\n      <th>pc</th>\n      <th>px_height</th>\n      <th>px_width</th>\n      <th>ram</th>\n      <th>sc_h</th>\n      <th>sc_w</th>\n      <th>talk_time</th>\n      <th>three_g</th>\n      <th>touch_screen</th>\n      <th>wifi</th>\n    </tr>\n  </thead>\n  <tbody>\n    <tr>\n      <th>0</th>\n      <td>1</td>\n      <td>1043</td>\n      <td>1</td>\n      <td>1.8</td>\n      <td>1</td>\n      <td>14</td>\n      <td>0</td>\n      <td>5</td>\n      <td>0.1</td>\n      <td>193</td>\n      <td>...</td>\n      <td>16</td>\n      <td>226</td>\n      <td>1412</td>\n      <td>3476</td>\n      <td>12</td>\n      <td>7</td>\n      <td>2</td>\n      <td>0</td>\n      <td>1</td>\n      <td>0</td>\n    </tr>\n    <tr>\n      <th>1</th>\n      <td>2</td>\n      <td>841</td>\n      <td>1</td>\n      <td>0.5</td>\n      <td>1</td>\n      <td>4</td>\n      <td>1</td>\n      <td>61</td>\n      <td>0.8</td>\n      <td>191</td>\n      <td>...</td>\n      <td>12</td>\n      <td>746</td>\n      <td>857</td>\n      <td>3895</td>\n      <td>6</td>\n      <td>0</td>\n      <td>7</td>\n      <td>1</td>\n      <td>0</td>\n      <td>0</td>\n    </tr>\n    <tr>\n      <th>2</th>\n      <td>3</td>\n      <td>1807</td>\n      <td>1</td>\n      <td>2.8</td>\n      <td>0</td>\n      <td>1</td>\n      <td>0</td>\n      <td>27</td>\n      <td>0.9</td>\n      <td>186</td>\n      <td>...</td>\n      <td>4</td>\n      <td>1270</td>\n      <td>1366</td>\n      <td>2396</td>\n      <td>17</td>\n      <td>10</td>\n      <td>10</td>\n      <td>0</td>\n      <td>1</td>\n      <td>1</td>\n    </tr>\n    <tr>\n      <th>3</th>\n      <td>4</td>\n      <td>1546</td>\n      <td>0</td>\n      <td>0.5</td>\n      <td>1</td>\n      <td>18</td>\n      <td>1</td>\n      <td>25</td>\n      <td>0.5</td>\n      <td>96</td>\n      <td>...</td>\n      <td>20</td>\n      <td>295</td>\n      <td>1752</td>\n      <td>3893</td>\n      <td>10</td>\n      <td>0</td>\n      <td>7</td>\n      <td>1</td>\n      <td>1</td>\n      <td>0</td>\n    </tr>\n    <tr>\n      <th>4</th>\n      <td>5</td>\n      <td>1434</td>\n      <td>0</td>\n      <td>1.4</td>\n      <td>0</td>\n      <td>11</td>\n      <td>1</td>\n      <td>49</td>\n      <td>0.5</td>\n      <td>108</td>\n      <td>...</td>\n      <td>18</td>\n      <td>749</td>\n      <td>810</td>\n      <td>1773</td>\n      <td>15</td>\n      <td>8</td>\n      <td>7</td>\n      <td>1</td>\n      <td>0</td>\n      <td>1</td>\n    </tr>\n    <tr>\n      <th>...</th>\n      <td>...</td>\n      <td>...</td>\n      <td>...</td>\n      <td>...</td>\n      <td>...</td>\n      <td>...</td>\n      <td>...</td>\n      <td>...</td>\n      <td>...</td>\n      <td>...</td>\n      <td>...</td>\n      <td>...</td>\n      <td>...</td>\n      <td>...</td>\n      <td>...</td>\n      <td>...</td>\n      <td>...</td>\n      <td>...</td>\n      <td>...</td>\n      <td>...</td>\n      <td>...</td>\n    </tr>\n    <tr>\n      <th>995</th>\n      <td>996</td>\n      <td>1700</td>\n      <td>1</td>\n      <td>1.9</td>\n      <td>0</td>\n      <td>0</td>\n      <td>1</td>\n      <td>54</td>\n      <td>0.5</td>\n      <td>170</td>\n      <td>...</td>\n      <td>17</td>\n      <td>644</td>\n      <td>913</td>\n      <td>2121</td>\n      <td>14</td>\n      <td>8</td>\n      <td>15</td>\n      <td>1</td>\n      <td>1</td>\n      <td>0</td>\n    </tr>\n    <tr>\n      <th>996</th>\n      <td>997</td>\n      <td>609</td>\n      <td>0</td>\n      <td>1.8</td>\n      <td>1</td>\n      <td>0</td>\n      <td>0</td>\n      <td>13</td>\n      <td>0.9</td>\n      <td>186</td>\n      <td>...</td>\n      <td>2</td>\n      <td>1152</td>\n      <td>1632</td>\n      <td>1933</td>\n      <td>8</td>\n      <td>1</td>\n      <td>19</td>\n      <td>0</td>\n      <td>1</td>\n      <td>1</td>\n    </tr>\n    <tr>\n      <th>997</th>\n      <td>998</td>\n      <td>1185</td>\n      <td>0</td>\n      <td>1.4</td>\n      <td>0</td>\n      <td>1</td>\n      <td>1</td>\n      <td>8</td>\n      <td>0.5</td>\n      <td>80</td>\n      <td>...</td>\n      <td>12</td>\n      <td>477</td>\n      <td>825</td>\n      <td>1223</td>\n      <td>5</td>\n      <td>0</td>\n      <td>14</td>\n      <td>1</td>\n      <td>0</td>\n      <td>0</td>\n    </tr>\n    <tr>\n      <th>998</th>\n      <td>999</td>\n      <td>1533</td>\n      <td>1</td>\n      <td>0.5</td>\n      <td>1</td>\n      <td>0</td>\n      <td>0</td>\n      <td>50</td>\n      <td>0.4</td>\n      <td>171</td>\n      <td>...</td>\n      <td>12</td>\n      <td>38</td>\n      <td>832</td>\n      <td>2509</td>\n      <td>15</td>\n      <td>11</td>\n      <td>6</td>\n      <td>0</td>\n      <td>1</td>\n      <td>0</td>\n    </tr>\n    <tr>\n      <th>999</th>\n      <td>1000</td>\n      <td>1270</td>\n      <td>1</td>\n      <td>0.5</td>\n      <td>0</td>\n      <td>4</td>\n      <td>1</td>\n      <td>35</td>\n      <td>0.1</td>\n      <td>140</td>\n      <td>...</td>\n      <td>19</td>\n      <td>457</td>\n      <td>608</td>\n      <td>2828</td>\n      <td>9</td>\n      <td>2</td>\n      <td>3</td>\n      <td>1</td>\n      <td>0</td>\n      <td>1</td>\n    </tr>\n  </tbody>\n</table>\n<p>1000 rows × 21 columns</p>\n</div>"
     },
     "execution_count": 2,
     "metadata": {},
     "output_type": "execute_result"
    }
   ],
   "source": [
    "univ_df = pd.read_csv(\"test.csv\")\n",
    "univ_df"
   ],
   "metadata": {
    "collapsed": false
   }
  },
  {
   "cell_type": "code",
   "execution_count": 2,
   "outputs": [],
   "source": [],
   "metadata": {
    "collapsed": false
   }
  }
 ],
 "metadata": {
  "kernelspec": {
   "display_name": "Python 3",
   "language": "python",
   "name": "python3"
  },
  "language_info": {
   "codemirror_mode": {
    "name": "ipython",
    "version": 2
   },
   "file_extension": ".py",
   "mimetype": "text/x-python",
   "name": "python",
   "nbconvert_exporter": "python",
   "pygments_lexer": "ipython2",
   "version": "2.7.6"
  }
 },
 "nbformat": 4,
 "nbformat_minor": 0
}
