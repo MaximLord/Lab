{
 "cells": [
  {
   "cell_type": "code",
   "execution_count": 1,
   "metadata": {
    "collapsed": true
   },
   "outputs": [],
   "source": [
    "import pandas as pd\n",
    "import numpy as np"
   ]
  },
  {
   "cell_type": "code",
   "execution_count": 3,
   "outputs": [
    {
     "data": {
      "text/plain": "                            0        1       2       3        4\nfixed acidity          7.4000   7.8000   7.800  11.200   7.4000\nvolatile acidity       0.7000   0.8800   0.760   0.280   0.7000\ncitric acid            0.0000   0.0000   0.040   0.560   0.0000\nresidual sugar         1.9000   2.6000   2.300   1.900   1.9000\nchlorides              0.0760   0.0980   0.092   0.075   0.0760\nfree sulfur dioxide   11.0000  25.0000  15.000  17.000  11.0000\ntotal sulfur dioxide  34.0000  67.0000  54.000  60.000  34.0000\ndensity                0.9978   0.9968   0.997   0.998   0.9978\npH                     3.5100   3.2000   3.260   3.160   3.5100\nsulphates              0.5600   0.6800   0.650   0.580   0.5600\nalcohol                9.4000   9.8000   9.800   9.800   9.4000\nquality                5.0000   5.0000   5.000   6.000   5.0000",
      "text/html": "<div>\n<style scoped>\n    .dataframe tbody tr th:only-of-type {\n        vertical-align: middle;\n    }\n\n    .dataframe tbody tr th {\n        vertical-align: top;\n    }\n\n    .dataframe thead th {\n        text-align: right;\n    }\n</style>\n<table border=\"1\" class=\"dataframe\">\n  <thead>\n    <tr style=\"text-align: right;\">\n      <th></th>\n      <th>0</th>\n      <th>1</th>\n      <th>2</th>\n      <th>3</th>\n      <th>4</th>\n    </tr>\n  </thead>\n  <tbody>\n    <tr>\n      <th>fixed acidity</th>\n      <td>7.4000</td>\n      <td>7.8000</td>\n      <td>7.800</td>\n      <td>11.200</td>\n      <td>7.4000</td>\n    </tr>\n    <tr>\n      <th>volatile acidity</th>\n      <td>0.7000</td>\n      <td>0.8800</td>\n      <td>0.760</td>\n      <td>0.280</td>\n      <td>0.7000</td>\n    </tr>\n    <tr>\n      <th>citric acid</th>\n      <td>0.0000</td>\n      <td>0.0000</td>\n      <td>0.040</td>\n      <td>0.560</td>\n      <td>0.0000</td>\n    </tr>\n    <tr>\n      <th>residual sugar</th>\n      <td>1.9000</td>\n      <td>2.6000</td>\n      <td>2.300</td>\n      <td>1.900</td>\n      <td>1.9000</td>\n    </tr>\n    <tr>\n      <th>chlorides</th>\n      <td>0.0760</td>\n      <td>0.0980</td>\n      <td>0.092</td>\n      <td>0.075</td>\n      <td>0.0760</td>\n    </tr>\n    <tr>\n      <th>free sulfur dioxide</th>\n      <td>11.0000</td>\n      <td>25.0000</td>\n      <td>15.000</td>\n      <td>17.000</td>\n      <td>11.0000</td>\n    </tr>\n    <tr>\n      <th>total sulfur dioxide</th>\n      <td>34.0000</td>\n      <td>67.0000</td>\n      <td>54.000</td>\n      <td>60.000</td>\n      <td>34.0000</td>\n    </tr>\n    <tr>\n      <th>density</th>\n      <td>0.9978</td>\n      <td>0.9968</td>\n      <td>0.997</td>\n      <td>0.998</td>\n      <td>0.9978</td>\n    </tr>\n    <tr>\n      <th>pH</th>\n      <td>3.5100</td>\n      <td>3.2000</td>\n      <td>3.260</td>\n      <td>3.160</td>\n      <td>3.5100</td>\n    </tr>\n    <tr>\n      <th>sulphates</th>\n      <td>0.5600</td>\n      <td>0.6800</td>\n      <td>0.650</td>\n      <td>0.580</td>\n      <td>0.5600</td>\n    </tr>\n    <tr>\n      <th>alcohol</th>\n      <td>9.4000</td>\n      <td>9.8000</td>\n      <td>9.800</td>\n      <td>9.800</td>\n      <td>9.4000</td>\n    </tr>\n    <tr>\n      <th>quality</th>\n      <td>5.0000</td>\n      <td>5.0000</td>\n      <td>5.000</td>\n      <td>6.000</td>\n      <td>5.0000</td>\n    </tr>\n  </tbody>\n</table>\n</div>"
     },
     "execution_count": 3,
     "metadata": {},
     "output_type": "execute_result"
    }
   ],
   "source": [
    "univ_df = pd.read_csv( \"winequality.csv\" )\n",
    "univ_df\n",
    "univ_df.head(5).T"
   ],
   "metadata": {
    "collapsed": false
   }
  },
  {
   "cell_type": "code",
   "execution_count": 4,
   "outputs": [
    {
     "name": "stdout",
     "output_type": "stream",
     "text": [
      "<class 'pandas.core.frame.DataFrame'>\n",
      "RangeIndex: 1599 entries, 0 to 1598\n",
      "Data columns (total 12 columns):\n",
      " #   Column                Non-Null Count  Dtype  \n",
      "---  ------                --------------  -----  \n",
      " 0   fixed acidity         1599 non-null   float64\n",
      " 1   volatile acidity      1599 non-null   float64\n",
      " 2   citric acid           1599 non-null   float64\n",
      " 3   residual sugar        1599 non-null   float64\n",
      " 4   chlorides             1599 non-null   float64\n",
      " 5   free sulfur dioxide   1599 non-null   float64\n",
      " 6   total sulfur dioxide  1599 non-null   float64\n",
      " 7   density               1599 non-null   float64\n",
      " 8   pH                    1599 non-null   float64\n",
      " 9   sulphates             1599 non-null   float64\n",
      " 10  alcohol               1599 non-null   float64\n",
      " 11  quality               1599 non-null   int64  \n",
      "dtypes: float64(11), int64(1)\n",
      "memory usage: 150.0 KB\n"
     ]
    }
   ],
   "source": [
    "univ_df.info()"
   ],
   "metadata": {
    "collapsed": false
   }
  },
  {
   "cell_type": "code",
   "execution_count": 5,
   "outputs": [],
   "source": [
    " # 2.1 описать типы переменных в наборе (какие являются непрерывные, категориальные, номинальные)\n",
    "   # Типы переменных являются:\n",
    "       # 0 - числовые непрерывные\n",
    "      #  1 - числовые непрерывные\n",
    "       # 2 - числовые непрерывные\n",
    "       # 3 - числовые непрерывные\n",
    "       # 4 - числовые непрерывные\n",
    "        #5 - числовые непрерывные\n",
    "       # 6 - числовые непрерывные\n",
    "       # 7 - числовые непрерывные\n",
    "       # 8 - числовые непрерывные\n",
    "       ## 9 - числовые непрерывные\n",
    "       # 10 - числовые непрерывные\n",
    "       # 11 - категориальная\n"
   ],
   "metadata": {
    "collapsed": false
   }
  },
  {
   "cell_type": "code",
   "execution_count": 6,
   "outputs": [
    {
     "data": {
      "text/plain": "       fixed acidity  volatile acidity  citric acid  residual sugar  \\\ncount    1599.000000       1599.000000  1599.000000     1599.000000   \nmean        8.319637          0.527821     0.270976        2.538806   \nstd         1.741096          0.179060     0.194801        1.409928   \nmin         4.600000          0.120000     0.000000        0.900000   \n25%         7.100000          0.390000     0.090000        1.900000   \n50%         7.900000          0.520000     0.260000        2.200000   \n75%         9.200000          0.640000     0.420000        2.600000   \nmax        15.900000          1.580000     1.000000       15.500000   \n\n         chlorides  free sulfur dioxide  total sulfur dioxide      density  \\\ncount  1599.000000          1599.000000           1599.000000  1599.000000   \nmean      0.087467            15.874922             46.467792     0.996747   \nstd       0.047065            10.460157             32.895324     0.001887   \nmin       0.012000             1.000000              6.000000     0.990070   \n25%       0.070000             7.000000             22.000000     0.995600   \n50%       0.079000            14.000000             38.000000     0.996750   \n75%       0.090000            21.000000             62.000000     0.997835   \nmax       0.611000            72.000000            289.000000     1.003690   \n\n                pH    sulphates      alcohol  \ncount  1599.000000  1599.000000  1599.000000  \nmean      3.311113     0.658149    10.422983  \nstd       0.154386     0.169507     1.065668  \nmin       2.740000     0.330000     8.400000  \n25%       3.210000     0.550000     9.500000  \n50%       3.310000     0.620000    10.200000  \n75%       3.400000     0.730000    11.100000  \nmax       4.010000     2.000000    14.900000  ",
      "text/html": "<div>\n<style scoped>\n    .dataframe tbody tr th:only-of-type {\n        vertical-align: middle;\n    }\n\n    .dataframe tbody tr th {\n        vertical-align: top;\n    }\n\n    .dataframe thead th {\n        text-align: right;\n    }\n</style>\n<table border=\"1\" class=\"dataframe\">\n  <thead>\n    <tr style=\"text-align: right;\">\n      <th></th>\n      <th>fixed acidity</th>\n      <th>volatile acidity</th>\n      <th>citric acid</th>\n      <th>residual sugar</th>\n      <th>chlorides</th>\n      <th>free sulfur dioxide</th>\n      <th>total sulfur dioxide</th>\n      <th>density</th>\n      <th>pH</th>\n      <th>sulphates</th>\n      <th>alcohol</th>\n    </tr>\n  </thead>\n  <tbody>\n    <tr>\n      <th>count</th>\n      <td>1599.000000</td>\n      <td>1599.000000</td>\n      <td>1599.000000</td>\n      <td>1599.000000</td>\n      <td>1599.000000</td>\n      <td>1599.000000</td>\n      <td>1599.000000</td>\n      <td>1599.000000</td>\n      <td>1599.000000</td>\n      <td>1599.000000</td>\n      <td>1599.000000</td>\n    </tr>\n    <tr>\n      <th>mean</th>\n      <td>8.319637</td>\n      <td>0.527821</td>\n      <td>0.270976</td>\n      <td>2.538806</td>\n      <td>0.087467</td>\n      <td>15.874922</td>\n      <td>46.467792</td>\n      <td>0.996747</td>\n      <td>3.311113</td>\n      <td>0.658149</td>\n      <td>10.422983</td>\n    </tr>\n    <tr>\n      <th>std</th>\n      <td>1.741096</td>\n      <td>0.179060</td>\n      <td>0.194801</td>\n      <td>1.409928</td>\n      <td>0.047065</td>\n      <td>10.460157</td>\n      <td>32.895324</td>\n      <td>0.001887</td>\n      <td>0.154386</td>\n      <td>0.169507</td>\n      <td>1.065668</td>\n    </tr>\n    <tr>\n      <th>min</th>\n      <td>4.600000</td>\n      <td>0.120000</td>\n      <td>0.000000</td>\n      <td>0.900000</td>\n      <td>0.012000</td>\n      <td>1.000000</td>\n      <td>6.000000</td>\n      <td>0.990070</td>\n      <td>2.740000</td>\n      <td>0.330000</td>\n      <td>8.400000</td>\n    </tr>\n    <tr>\n      <th>25%</th>\n      <td>7.100000</td>\n      <td>0.390000</td>\n      <td>0.090000</td>\n      <td>1.900000</td>\n      <td>0.070000</td>\n      <td>7.000000</td>\n      <td>22.000000</td>\n      <td>0.995600</td>\n      <td>3.210000</td>\n      <td>0.550000</td>\n      <td>9.500000</td>\n    </tr>\n    <tr>\n      <th>50%</th>\n      <td>7.900000</td>\n      <td>0.520000</td>\n      <td>0.260000</td>\n      <td>2.200000</td>\n      <td>0.079000</td>\n      <td>14.000000</td>\n      <td>38.000000</td>\n      <td>0.996750</td>\n      <td>3.310000</td>\n      <td>0.620000</td>\n      <td>10.200000</td>\n    </tr>\n    <tr>\n      <th>75%</th>\n      <td>9.200000</td>\n      <td>0.640000</td>\n      <td>0.420000</td>\n      <td>2.600000</td>\n      <td>0.090000</td>\n      <td>21.000000</td>\n      <td>62.000000</td>\n      <td>0.997835</td>\n      <td>3.400000</td>\n      <td>0.730000</td>\n      <td>11.100000</td>\n    </tr>\n    <tr>\n      <th>max</th>\n      <td>15.900000</td>\n      <td>1.580000</td>\n      <td>1.000000</td>\n      <td>15.500000</td>\n      <td>0.611000</td>\n      <td>72.000000</td>\n      <td>289.000000</td>\n      <td>1.003690</td>\n      <td>4.010000</td>\n      <td>2.000000</td>\n      <td>14.900000</td>\n    </tr>\n  </tbody>\n</table>\n</div>"
     },
     "execution_count": 6,
     "metadata": {},
     "output_type": "execute_result"
    }
   ],
   "source": [
    "univ_df.describe(include = \"float64\")"
   ],
   "metadata": {
    "collapsed": false
   }
  },
  {
   "cell_type": "code",
   "execution_count": 7,
   "outputs": [
    {
     "data": {
      "text/plain": "           quality\ncount  1599.000000\nmean      5.636023\nstd       0.807569\nmin       3.000000\n25%       5.000000\n50%       6.000000\n75%       6.000000\nmax       8.000000",
      "text/html": "<div>\n<style scoped>\n    .dataframe tbody tr th:only-of-type {\n        vertical-align: middle;\n    }\n\n    .dataframe tbody tr th {\n        vertical-align: top;\n    }\n\n    .dataframe thead th {\n        text-align: right;\n    }\n</style>\n<table border=\"1\" class=\"dataframe\">\n  <thead>\n    <tr style=\"text-align: right;\">\n      <th></th>\n      <th>quality</th>\n    </tr>\n  </thead>\n  <tbody>\n    <tr>\n      <th>count</th>\n      <td>1599.000000</td>\n    </tr>\n    <tr>\n      <th>mean</th>\n      <td>5.636023</td>\n    </tr>\n    <tr>\n      <th>std</th>\n      <td>0.807569</td>\n    </tr>\n    <tr>\n      <th>min</th>\n      <td>3.000000</td>\n    </tr>\n    <tr>\n      <th>25%</th>\n      <td>5.000000</td>\n    </tr>\n    <tr>\n      <th>50%</th>\n      <td>6.000000</td>\n    </tr>\n    <tr>\n      <th>75%</th>\n      <td>6.000000</td>\n    </tr>\n    <tr>\n      <th>max</th>\n      <td>8.000000</td>\n    </tr>\n  </tbody>\n</table>\n</div>"
     },
     "execution_count": 7,
     "metadata": {},
     "output_type": "execute_result"
    }
   ],
   "source": [
    "univ_df.describe(include = \"int64\")"
   ],
   "metadata": {
    "collapsed": false
   }
  },
  {
   "cell_type": "code",
   "execution_count": 8,
   "outputs": [],
   "source": [
    "#2.2 вывести статистические характеристики набора"
   ],
   "metadata": {
    "collapsed": false
   }
  },
  {
   "cell_type": "code",
   "execution_count": 9,
   "outputs": [],
   "source": [
    "#3.1 являются ли переменные номинальными или представяют собой категории\n",
    "#Переменные номинальные не являются, а последняя переменная является категориальной"
   ],
   "metadata": {
    "collapsed": false
   }
  },
  {
   "cell_type": "code",
   "execution_count": 10,
   "outputs": [],
   "source": [
    "# 3.2 имеются ли в данных какие-то особенности в виде опечаток, ошибок ввода (по возможности)\n",
    "   # Ошибок и опечаток не обнаружено"
   ],
   "metadata": {
    "collapsed": false
   }
  },
  {
   "cell_type": "code",
   "execution_count": 11,
   "outputs": [
    {
     "data": {
      "text/plain": "array([0.076, 0.098, 0.092, 0.075, 0.069, 0.065, 0.073, 0.071, 0.097,\n       0.089, 0.114, 0.176, 0.17 , 0.368, 0.086, 0.341, 0.077, 0.082,\n       0.106, 0.084, 0.085, 0.08 , 0.105, 0.083, 0.103, 0.066, 0.172,\n       0.074, 0.088, 0.332, 0.05 , 0.054, 0.113, 0.068, 0.081, 0.11 ,\n       0.07 , 0.111, 0.079, 0.115, 0.094, 0.093, 0.104, 0.464, 0.401,\n       0.062, 0.107, 0.045, 0.058, 0.102, 0.467, 0.091, 0.122, 0.09 ,\n       0.119, 0.178, 0.146, 0.072, 0.118, 0.049, 0.06 , 0.117, 0.087,\n       0.236, 0.61 , 0.095, 0.1  , 0.36 , 0.067, 0.27 , 0.099, 0.046,\n       0.061, 0.056, 0.039, 0.059, 0.101, 0.057, 0.337, 0.078, 0.263,\n       0.063, 0.611, 0.064, 0.096, 0.358, 0.343, 0.186, 0.112, 0.213,\n       0.214, 0.121, 0.128, 0.052, 0.12 , 0.116, 0.109, 0.159, 0.124,\n       0.174, 0.047, 0.127, 0.413, 0.152, 0.053, 0.055, 0.051, 0.125,\n       0.2  , 0.171, 0.226, 0.25 , 0.108, 0.148, 0.143, 0.222, 0.157,\n       0.422, 0.034, 0.387, 0.415, 0.243, 0.241, 0.19 , 0.132, 0.126,\n       0.038, 0.044, 0.041, 0.165, 0.048, 0.145, 0.147, 0.012, 0.194,\n       0.161, 0.123, 0.414, 0.216, 0.043, 0.042, 0.369, 0.166, 0.136,\n       0.403, 0.137, 0.168, 0.153, 0.267, 0.169, 0.205, 0.235, 0.23 ])"
     },
     "execution_count": 11,
     "metadata": {},
     "output_type": "execute_result"
    }
   ],
   "source": [
    "univ_df.chlorides.unique()"
   ],
   "metadata": {
    "collapsed": false
   }
  },
  {
   "cell_type": "code",
   "execution_count": 12,
   "outputs": [],
   "source": [
    " #3.3 Имеются ли пустые значения полей\n",
    "   # Нет нулевых значений."
   ],
   "metadata": {
    "collapsed": false
   }
  },
  {
   "cell_type": "code",
   "execution_count": 13,
   "outputs": [
    {
     "data": {
      "text/plain": "      fixed acidity  volatile acidity  citric acid  residual sugar  chlorides  \\\n0             False             False        False           False      False   \n1             False             False        False           False      False   \n2             False             False        False           False      False   \n3             False             False        False           False      False   \n4             False             False        False           False      False   \n...             ...               ...          ...             ...        ...   \n1594          False             False        False           False      False   \n1595          False             False        False           False      False   \n1596          False             False        False           False      False   \n1597          False             False        False           False      False   \n1598          False             False        False           False      False   \n\n      free sulfur dioxide  total sulfur dioxide  density     pH  sulphates  \\\n0                   False                 False    False  False      False   \n1                   False                 False    False  False      False   \n2                   False                 False    False  False      False   \n3                   False                 False    False  False      False   \n4                   False                 False    False  False      False   \n...                   ...                   ...      ...    ...        ...   \n1594                False                 False    False  False      False   \n1595                False                 False    False  False      False   \n1596                False                 False    False  False      False   \n1597                False                 False    False  False      False   \n1598                False                 False    False  False      False   \n\n      alcohol  quality  \n0       False    False  \n1       False    False  \n2       False    False  \n3       False    False  \n4       False    False  \n...       ...      ...  \n1594    False    False  \n1595    False    False  \n1596    False    False  \n1597    False    False  \n1598    False    False  \n\n[1599 rows x 12 columns]",
      "text/html": "<div>\n<style scoped>\n    .dataframe tbody tr th:only-of-type {\n        vertical-align: middle;\n    }\n\n    .dataframe tbody tr th {\n        vertical-align: top;\n    }\n\n    .dataframe thead th {\n        text-align: right;\n    }\n</style>\n<table border=\"1\" class=\"dataframe\">\n  <thead>\n    <tr style=\"text-align: right;\">\n      <th></th>\n      <th>fixed acidity</th>\n      <th>volatile acidity</th>\n      <th>citric acid</th>\n      <th>residual sugar</th>\n      <th>chlorides</th>\n      <th>free sulfur dioxide</th>\n      <th>total sulfur dioxide</th>\n      <th>density</th>\n      <th>pH</th>\n      <th>sulphates</th>\n      <th>alcohol</th>\n      <th>quality</th>\n    </tr>\n  </thead>\n  <tbody>\n    <tr>\n      <th>0</th>\n      <td>False</td>\n      <td>False</td>\n      <td>False</td>\n      <td>False</td>\n      <td>False</td>\n      <td>False</td>\n      <td>False</td>\n      <td>False</td>\n      <td>False</td>\n      <td>False</td>\n      <td>False</td>\n      <td>False</td>\n    </tr>\n    <tr>\n      <th>1</th>\n      <td>False</td>\n      <td>False</td>\n      <td>False</td>\n      <td>False</td>\n      <td>False</td>\n      <td>False</td>\n      <td>False</td>\n      <td>False</td>\n      <td>False</td>\n      <td>False</td>\n      <td>False</td>\n      <td>False</td>\n    </tr>\n    <tr>\n      <th>2</th>\n      <td>False</td>\n      <td>False</td>\n      <td>False</td>\n      <td>False</td>\n      <td>False</td>\n      <td>False</td>\n      <td>False</td>\n      <td>False</td>\n      <td>False</td>\n      <td>False</td>\n      <td>False</td>\n      <td>False</td>\n    </tr>\n    <tr>\n      <th>3</th>\n      <td>False</td>\n      <td>False</td>\n      <td>False</td>\n      <td>False</td>\n      <td>False</td>\n      <td>False</td>\n      <td>False</td>\n      <td>False</td>\n      <td>False</td>\n      <td>False</td>\n      <td>False</td>\n      <td>False</td>\n    </tr>\n    <tr>\n      <th>4</th>\n      <td>False</td>\n      <td>False</td>\n      <td>False</td>\n      <td>False</td>\n      <td>False</td>\n      <td>False</td>\n      <td>False</td>\n      <td>False</td>\n      <td>False</td>\n      <td>False</td>\n      <td>False</td>\n      <td>False</td>\n    </tr>\n    <tr>\n      <th>...</th>\n      <td>...</td>\n      <td>...</td>\n      <td>...</td>\n      <td>...</td>\n      <td>...</td>\n      <td>...</td>\n      <td>...</td>\n      <td>...</td>\n      <td>...</td>\n      <td>...</td>\n      <td>...</td>\n      <td>...</td>\n    </tr>\n    <tr>\n      <th>1594</th>\n      <td>False</td>\n      <td>False</td>\n      <td>False</td>\n      <td>False</td>\n      <td>False</td>\n      <td>False</td>\n      <td>False</td>\n      <td>False</td>\n      <td>False</td>\n      <td>False</td>\n      <td>False</td>\n      <td>False</td>\n    </tr>\n    <tr>\n      <th>1595</th>\n      <td>False</td>\n      <td>False</td>\n      <td>False</td>\n      <td>False</td>\n      <td>False</td>\n      <td>False</td>\n      <td>False</td>\n      <td>False</td>\n      <td>False</td>\n      <td>False</td>\n      <td>False</td>\n      <td>False</td>\n    </tr>\n    <tr>\n      <th>1596</th>\n      <td>False</td>\n      <td>False</td>\n      <td>False</td>\n      <td>False</td>\n      <td>False</td>\n      <td>False</td>\n      <td>False</td>\n      <td>False</td>\n      <td>False</td>\n      <td>False</td>\n      <td>False</td>\n      <td>False</td>\n    </tr>\n    <tr>\n      <th>1597</th>\n      <td>False</td>\n      <td>False</td>\n      <td>False</td>\n      <td>False</td>\n      <td>False</td>\n      <td>False</td>\n      <td>False</td>\n      <td>False</td>\n      <td>False</td>\n      <td>False</td>\n      <td>False</td>\n      <td>False</td>\n    </tr>\n    <tr>\n      <th>1598</th>\n      <td>False</td>\n      <td>False</td>\n      <td>False</td>\n      <td>False</td>\n      <td>False</td>\n      <td>False</td>\n      <td>False</td>\n      <td>False</td>\n      <td>False</td>\n      <td>False</td>\n      <td>False</td>\n      <td>False</td>\n    </tr>\n  </tbody>\n</table>\n<p>1599 rows × 12 columns</p>\n</div>"
     },
     "execution_count": 13,
     "metadata": {},
     "output_type": "execute_result"
    }
   ],
   "source": [
    "univ_df.isnull()"
   ],
   "metadata": {
    "collapsed": false
   }
  },
  {
   "cell_type": "code",
   "execution_count": 14,
   "outputs": [],
   "source": [
    "#3.4 Статистические характеристики числовых полей (мин, макс, среднее,медиана)."
   ],
   "metadata": {
    "collapsed": false
   }
  },
  {
   "cell_type": "code",
   "execution_count": 15,
   "outputs": [
    {
     "data": {
      "text/plain": "0.012"
     },
     "execution_count": 15,
     "metadata": {},
     "output_type": "execute_result"
    }
   ],
   "source": [
    "univ_df.chlorides.min()"
   ],
   "metadata": {
    "collapsed": false
   }
  },
  {
   "cell_type": "code",
   "execution_count": 16,
   "outputs": [
    {
     "data": {
      "text/plain": "0.611"
     },
     "execution_count": 16,
     "metadata": {},
     "output_type": "execute_result"
    }
   ],
   "source": [
    "univ_df.chlorides.max()"
   ],
   "metadata": {
    "collapsed": false
   }
  },
  {
   "cell_type": "code",
   "execution_count": 17,
   "outputs": [
    {
     "data": {
      "text/plain": "0.08746654158849279"
     },
     "execution_count": 17,
     "metadata": {},
     "output_type": "execute_result"
    }
   ],
   "source": [
    "univ_df.chlorides.mean()"
   ],
   "metadata": {
    "collapsed": false
   }
  },
  {
   "cell_type": "code",
   "execution_count": 18,
   "outputs": [
    {
     "data": {
      "text/plain": "0.079"
     },
     "execution_count": 18,
     "metadata": {},
     "output_type": "execute_result"
    }
   ],
   "source": [
    "univ_df.chlorides.median()"
   ],
   "metadata": {
    "collapsed": false
   }
  },
  {
   "cell_type": "code",
   "execution_count": 19,
   "outputs": [],
   "source": [
    "#4. Выполнить срезы набора данных: по именам полей, по индексам"
   ],
   "metadata": {
    "collapsed": false
   }
  },
  {
   "cell_type": "code",
   "execution_count": 20,
   "outputs": [
    {
     "data": {
      "text/plain": "      chlorides  free sulfur dioxide  total sulfur dioxide  density    pH  \\\n0         0.076                 11.0                  34.0  0.99780  3.51   \n1         0.098                 25.0                  67.0  0.99680  3.20   \n2         0.092                 15.0                  54.0  0.99700  3.26   \n3         0.075                 17.0                  60.0  0.99800  3.16   \n4         0.076                 11.0                  34.0  0.99780  3.51   \n...         ...                  ...                   ...      ...   ...   \n1594      0.090                 32.0                  44.0  0.99490  3.45   \n1595      0.062                 39.0                  51.0  0.99512  3.52   \n1596      0.076                 29.0                  40.0  0.99574  3.42   \n1597      0.075                 32.0                  44.0  0.99547  3.57   \n1598      0.067                 18.0                  42.0  0.99549  3.39   \n\n      sulphates  alcohol  quality  \n0          0.56      9.4        5  \n1          0.68      9.8        5  \n2          0.65      9.8        5  \n3          0.58      9.8        6  \n4          0.56      9.4        5  \n...         ...      ...      ...  \n1594       0.58     10.5        5  \n1595       0.76     11.2        6  \n1596       0.75     11.0        6  \n1597       0.71     10.2        5  \n1598       0.66     11.0        6  \n\n[1599 rows x 8 columns]",
      "text/html": "<div>\n<style scoped>\n    .dataframe tbody tr th:only-of-type {\n        vertical-align: middle;\n    }\n\n    .dataframe tbody tr th {\n        vertical-align: top;\n    }\n\n    .dataframe thead th {\n        text-align: right;\n    }\n</style>\n<table border=\"1\" class=\"dataframe\">\n  <thead>\n    <tr style=\"text-align: right;\">\n      <th></th>\n      <th>chlorides</th>\n      <th>free sulfur dioxide</th>\n      <th>total sulfur dioxide</th>\n      <th>density</th>\n      <th>pH</th>\n      <th>sulphates</th>\n      <th>alcohol</th>\n      <th>quality</th>\n    </tr>\n  </thead>\n  <tbody>\n    <tr>\n      <th>0</th>\n      <td>0.076</td>\n      <td>11.0</td>\n      <td>34.0</td>\n      <td>0.99780</td>\n      <td>3.51</td>\n      <td>0.56</td>\n      <td>9.4</td>\n      <td>5</td>\n    </tr>\n    <tr>\n      <th>1</th>\n      <td>0.098</td>\n      <td>25.0</td>\n      <td>67.0</td>\n      <td>0.99680</td>\n      <td>3.20</td>\n      <td>0.68</td>\n      <td>9.8</td>\n      <td>5</td>\n    </tr>\n    <tr>\n      <th>2</th>\n      <td>0.092</td>\n      <td>15.0</td>\n      <td>54.0</td>\n      <td>0.99700</td>\n      <td>3.26</td>\n      <td>0.65</td>\n      <td>9.8</td>\n      <td>5</td>\n    </tr>\n    <tr>\n      <th>3</th>\n      <td>0.075</td>\n      <td>17.0</td>\n      <td>60.0</td>\n      <td>0.99800</td>\n      <td>3.16</td>\n      <td>0.58</td>\n      <td>9.8</td>\n      <td>6</td>\n    </tr>\n    <tr>\n      <th>4</th>\n      <td>0.076</td>\n      <td>11.0</td>\n      <td>34.0</td>\n      <td>0.99780</td>\n      <td>3.51</td>\n      <td>0.56</td>\n      <td>9.4</td>\n      <td>5</td>\n    </tr>\n    <tr>\n      <th>...</th>\n      <td>...</td>\n      <td>...</td>\n      <td>...</td>\n      <td>...</td>\n      <td>...</td>\n      <td>...</td>\n      <td>...</td>\n      <td>...</td>\n    </tr>\n    <tr>\n      <th>1594</th>\n      <td>0.090</td>\n      <td>32.0</td>\n      <td>44.0</td>\n      <td>0.99490</td>\n      <td>3.45</td>\n      <td>0.58</td>\n      <td>10.5</td>\n      <td>5</td>\n    </tr>\n    <tr>\n      <th>1595</th>\n      <td>0.062</td>\n      <td>39.0</td>\n      <td>51.0</td>\n      <td>0.99512</td>\n      <td>3.52</td>\n      <td>0.76</td>\n      <td>11.2</td>\n      <td>6</td>\n    </tr>\n    <tr>\n      <th>1596</th>\n      <td>0.076</td>\n      <td>29.0</td>\n      <td>40.0</td>\n      <td>0.99574</td>\n      <td>3.42</td>\n      <td>0.75</td>\n      <td>11.0</td>\n      <td>6</td>\n    </tr>\n    <tr>\n      <th>1597</th>\n      <td>0.075</td>\n      <td>32.0</td>\n      <td>44.0</td>\n      <td>0.99547</td>\n      <td>3.57</td>\n      <td>0.71</td>\n      <td>10.2</td>\n      <td>5</td>\n    </tr>\n    <tr>\n      <th>1598</th>\n      <td>0.067</td>\n      <td>18.0</td>\n      <td>42.0</td>\n      <td>0.99549</td>\n      <td>3.39</td>\n      <td>0.66</td>\n      <td>11.0</td>\n      <td>6</td>\n    </tr>\n  </tbody>\n</table>\n<p>1599 rows × 8 columns</p>\n</div>"
     },
     "execution_count": 20,
     "metadata": {},
     "output_type": "execute_result"
    }
   ],
   "source": [
    "univ_df.loc[:, \"chlorides\":]"
   ],
   "metadata": {
    "collapsed": false
   }
  },
  {
   "cell_type": "code",
   "execution_count": 21,
   "outputs": [
    {
     "data": {
      "text/plain": "   volatile acidity  citric acid  residual sugar\n0              0.70         0.00             1.9\n1              0.88         0.00             2.6\n2              0.76         0.04             2.3\n3              0.28         0.56             1.9\n4              0.70         0.00             1.9\n5              0.66         0.00             1.8\n6              0.60         0.06             1.6\n7              0.65         0.00             1.2\n8              0.58         0.02             2.0\n9              0.50         0.36             6.1",
      "text/html": "<div>\n<style scoped>\n    .dataframe tbody tr th:only-of-type {\n        vertical-align: middle;\n    }\n\n    .dataframe tbody tr th {\n        vertical-align: top;\n    }\n\n    .dataframe thead th {\n        text-align: right;\n    }\n</style>\n<table border=\"1\" class=\"dataframe\">\n  <thead>\n    <tr style=\"text-align: right;\">\n      <th></th>\n      <th>volatile acidity</th>\n      <th>citric acid</th>\n      <th>residual sugar</th>\n    </tr>\n  </thead>\n  <tbody>\n    <tr>\n      <th>0</th>\n      <td>0.70</td>\n      <td>0.00</td>\n      <td>1.9</td>\n    </tr>\n    <tr>\n      <th>1</th>\n      <td>0.88</td>\n      <td>0.00</td>\n      <td>2.6</td>\n    </tr>\n    <tr>\n      <th>2</th>\n      <td>0.76</td>\n      <td>0.04</td>\n      <td>2.3</td>\n    </tr>\n    <tr>\n      <th>3</th>\n      <td>0.28</td>\n      <td>0.56</td>\n      <td>1.9</td>\n    </tr>\n    <tr>\n      <th>4</th>\n      <td>0.70</td>\n      <td>0.00</td>\n      <td>1.9</td>\n    </tr>\n    <tr>\n      <th>5</th>\n      <td>0.66</td>\n      <td>0.00</td>\n      <td>1.8</td>\n    </tr>\n    <tr>\n      <th>6</th>\n      <td>0.60</td>\n      <td>0.06</td>\n      <td>1.6</td>\n    </tr>\n    <tr>\n      <th>7</th>\n      <td>0.65</td>\n      <td>0.00</td>\n      <td>1.2</td>\n    </tr>\n    <tr>\n      <th>8</th>\n      <td>0.58</td>\n      <td>0.02</td>\n      <td>2.0</td>\n    </tr>\n    <tr>\n      <th>9</th>\n      <td>0.50</td>\n      <td>0.36</td>\n      <td>6.1</td>\n    </tr>\n  </tbody>\n</table>\n</div>"
     },
     "execution_count": 21,
     "metadata": {},
     "output_type": "execute_result"
    }
   ],
   "source": [
    "univ_df.iloc[0:10, 1:4]"
   ],
   "metadata": {
    "collapsed": false
   }
  },
  {
   "cell_type": "code",
   "execution_count": 22,
   "outputs": [],
   "source": [
    "#5. Выполнить выбороки с фильтрацией по значниям полей (равенство, неравенство, частичный фильтр строк с помощью лямбда-функции), с использованием |, &"
   ],
   "metadata": {
    "collapsed": false
   }
  },
  {
   "cell_type": "code",
   "execution_count": 23,
   "outputs": [
    {
     "data": {
      "text/plain": "      fixed acidity  volatile acidity  residual sugar  free sulfur dioxide  \\\n0               7.4              0.70             1.9                 11.0   \n2               7.8              0.76             2.3                 15.0   \n4               7.4              0.70             1.9                 11.0   \n6               7.9              0.60             1.6                 15.0   \n8               7.8              0.58             2.0                  9.0   \n...             ...               ...             ...                  ...   \n1590            6.3              0.55             1.8                 26.0   \n1592            6.3              0.51             2.3                 29.0   \n1594            6.2              0.60             2.0                 32.0   \n1596            6.3              0.51             2.3                 29.0   \n1598            6.0              0.31             3.6                 18.0   \n\n      total sulfur dioxide    pH  alcohol  \n0                     34.0  3.51      9.4  \n2                     54.0  3.26      9.8  \n4                     34.0  3.51      9.4  \n6                     59.0  3.30      9.4  \n8                     18.0  3.36      9.5  \n...                    ...   ...      ...  \n1590                  35.0  3.32     11.6  \n1592                  40.0  3.42     11.0  \n1594                  44.0  3.45     10.5  \n1596                  40.0  3.42     11.0  \n1598                  42.0  3.39     11.0  \n\n[800 rows x 7 columns]",
      "text/html": "<div>\n<style scoped>\n    .dataframe tbody tr th:only-of-type {\n        vertical-align: middle;\n    }\n\n    .dataframe tbody tr th {\n        vertical-align: top;\n    }\n\n    .dataframe thead th {\n        text-align: right;\n    }\n</style>\n<table border=\"1\" class=\"dataframe\">\n  <thead>\n    <tr style=\"text-align: right;\">\n      <th></th>\n      <th>fixed acidity</th>\n      <th>volatile acidity</th>\n      <th>residual sugar</th>\n      <th>free sulfur dioxide</th>\n      <th>total sulfur dioxide</th>\n      <th>pH</th>\n      <th>alcohol</th>\n    </tr>\n  </thead>\n  <tbody>\n    <tr>\n      <th>0</th>\n      <td>7.4</td>\n      <td>0.70</td>\n      <td>1.9</td>\n      <td>11.0</td>\n      <td>34.0</td>\n      <td>3.51</td>\n      <td>9.4</td>\n    </tr>\n    <tr>\n      <th>2</th>\n      <td>7.8</td>\n      <td>0.76</td>\n      <td>2.3</td>\n      <td>15.0</td>\n      <td>54.0</td>\n      <td>3.26</td>\n      <td>9.8</td>\n    </tr>\n    <tr>\n      <th>4</th>\n      <td>7.4</td>\n      <td>0.70</td>\n      <td>1.9</td>\n      <td>11.0</td>\n      <td>34.0</td>\n      <td>3.51</td>\n      <td>9.4</td>\n    </tr>\n    <tr>\n      <th>6</th>\n      <td>7.9</td>\n      <td>0.60</td>\n      <td>1.6</td>\n      <td>15.0</td>\n      <td>59.0</td>\n      <td>3.30</td>\n      <td>9.4</td>\n    </tr>\n    <tr>\n      <th>8</th>\n      <td>7.8</td>\n      <td>0.58</td>\n      <td>2.0</td>\n      <td>9.0</td>\n      <td>18.0</td>\n      <td>3.36</td>\n      <td>9.5</td>\n    </tr>\n    <tr>\n      <th>...</th>\n      <td>...</td>\n      <td>...</td>\n      <td>...</td>\n      <td>...</td>\n      <td>...</td>\n      <td>...</td>\n      <td>...</td>\n    </tr>\n    <tr>\n      <th>1590</th>\n      <td>6.3</td>\n      <td>0.55</td>\n      <td>1.8</td>\n      <td>26.0</td>\n      <td>35.0</td>\n      <td>3.32</td>\n      <td>11.6</td>\n    </tr>\n    <tr>\n      <th>1592</th>\n      <td>6.3</td>\n      <td>0.51</td>\n      <td>2.3</td>\n      <td>29.0</td>\n      <td>40.0</td>\n      <td>3.42</td>\n      <td>11.0</td>\n    </tr>\n    <tr>\n      <th>1594</th>\n      <td>6.2</td>\n      <td>0.60</td>\n      <td>2.0</td>\n      <td>32.0</td>\n      <td>44.0</td>\n      <td>3.45</td>\n      <td>10.5</td>\n    </tr>\n    <tr>\n      <th>1596</th>\n      <td>6.3</td>\n      <td>0.51</td>\n      <td>2.3</td>\n      <td>29.0</td>\n      <td>40.0</td>\n      <td>3.42</td>\n      <td>11.0</td>\n    </tr>\n    <tr>\n      <th>1598</th>\n      <td>6.0</td>\n      <td>0.31</td>\n      <td>3.6</td>\n      <td>18.0</td>\n      <td>42.0</td>\n      <td>3.39</td>\n      <td>11.0</td>\n    </tr>\n  </tbody>\n</table>\n<p>800 rows × 7 columns</p>\n</div>"
     },
     "execution_count": 23,
     "metadata": {},
     "output_type": "execute_result"
    }
   ],
   "source": [
    "univ_df.iloc[lambda x: x.index % 2 == 0,[True, True, False, True, False, True, True, False, True, False, True, False]]"
   ],
   "metadata": {
    "collapsed": false
   }
  },
  {
   "cell_type": "code",
   "execution_count": 24,
   "outputs": [
    {
     "data": {
      "text/plain": "      fixed acidity  volatile acidity  citric acid  residual sugar  chlorides  \\\n7               7.3             0.650         0.00             1.2      0.065   \n58              7.8             0.590         0.18             2.3      0.076   \n116             8.3             0.540         0.28             1.9      0.077   \n146             5.8             0.680         0.02             1.8      0.087   \n162             7.8             0.530         0.04             1.7      0.076   \n...             ...               ...          ...             ...        ...   \n1461            6.2             0.785         0.00             2.1      0.060   \n1466            7.3             0.480         0.32             2.1      0.062   \n1468            7.3             0.480         0.32             2.1      0.062   \n1494            6.4             0.310         0.09             1.4      0.066   \n1524            6.0             0.420         0.19             2.0      0.075   \n\n      free sulfur dioxide  total sulfur dioxide  density    pH  sulphates  \\\n7                    15.0                  21.0  0.99460  3.39       0.47   \n58                   17.0                  54.0  0.99750  3.43       0.59   \n116                  11.0                  40.0  0.99780  3.39       0.61   \n146                  21.0                  94.0  0.99440  3.54       0.52   \n162                  17.0                  31.0  0.99640  3.33       0.56   \n...                   ...                   ...      ...   ...        ...   \n1461                  6.0                  13.0  0.99664  3.59       0.61   \n1466                 31.0                  54.0  0.99728  3.30       0.65   \n1468                 31.0                  54.0  0.99728  3.30       0.65   \n1494                 15.0                  28.0  0.99459  3.42       0.70   \n1524                 22.0                  47.0  0.99522  3.39       0.78   \n\n      alcohol  quality  \n7        10.0        7  \n58       10.0        5  \n116      10.0        6  \n146      10.0        5  \n162      10.0        6  \n...       ...      ...  \n1461     10.0        4  \n1466     10.0        7  \n1468     10.0        7  \n1494     10.0        7  \n1524     10.0        6  \n\n[67 rows x 12 columns]",
      "text/html": "<div>\n<style scoped>\n    .dataframe tbody tr th:only-of-type {\n        vertical-align: middle;\n    }\n\n    .dataframe tbody tr th {\n        vertical-align: top;\n    }\n\n    .dataframe thead th {\n        text-align: right;\n    }\n</style>\n<table border=\"1\" class=\"dataframe\">\n  <thead>\n    <tr style=\"text-align: right;\">\n      <th></th>\n      <th>fixed acidity</th>\n      <th>volatile acidity</th>\n      <th>citric acid</th>\n      <th>residual sugar</th>\n      <th>chlorides</th>\n      <th>free sulfur dioxide</th>\n      <th>total sulfur dioxide</th>\n      <th>density</th>\n      <th>pH</th>\n      <th>sulphates</th>\n      <th>alcohol</th>\n      <th>quality</th>\n    </tr>\n  </thead>\n  <tbody>\n    <tr>\n      <th>7</th>\n      <td>7.3</td>\n      <td>0.650</td>\n      <td>0.00</td>\n      <td>1.2</td>\n      <td>0.065</td>\n      <td>15.0</td>\n      <td>21.0</td>\n      <td>0.99460</td>\n      <td>3.39</td>\n      <td>0.47</td>\n      <td>10.0</td>\n      <td>7</td>\n    </tr>\n    <tr>\n      <th>58</th>\n      <td>7.8</td>\n      <td>0.590</td>\n      <td>0.18</td>\n      <td>2.3</td>\n      <td>0.076</td>\n      <td>17.0</td>\n      <td>54.0</td>\n      <td>0.99750</td>\n      <td>3.43</td>\n      <td>0.59</td>\n      <td>10.0</td>\n      <td>5</td>\n    </tr>\n    <tr>\n      <th>116</th>\n      <td>8.3</td>\n      <td>0.540</td>\n      <td>0.28</td>\n      <td>1.9</td>\n      <td>0.077</td>\n      <td>11.0</td>\n      <td>40.0</td>\n      <td>0.99780</td>\n      <td>3.39</td>\n      <td>0.61</td>\n      <td>10.0</td>\n      <td>6</td>\n    </tr>\n    <tr>\n      <th>146</th>\n      <td>5.8</td>\n      <td>0.680</td>\n      <td>0.02</td>\n      <td>1.8</td>\n      <td>0.087</td>\n      <td>21.0</td>\n      <td>94.0</td>\n      <td>0.99440</td>\n      <td>3.54</td>\n      <td>0.52</td>\n      <td>10.0</td>\n      <td>5</td>\n    </tr>\n    <tr>\n      <th>162</th>\n      <td>7.8</td>\n      <td>0.530</td>\n      <td>0.04</td>\n      <td>1.7</td>\n      <td>0.076</td>\n      <td>17.0</td>\n      <td>31.0</td>\n      <td>0.99640</td>\n      <td>3.33</td>\n      <td>0.56</td>\n      <td>10.0</td>\n      <td>6</td>\n    </tr>\n    <tr>\n      <th>...</th>\n      <td>...</td>\n      <td>...</td>\n      <td>...</td>\n      <td>...</td>\n      <td>...</td>\n      <td>...</td>\n      <td>...</td>\n      <td>...</td>\n      <td>...</td>\n      <td>...</td>\n      <td>...</td>\n      <td>...</td>\n    </tr>\n    <tr>\n      <th>1461</th>\n      <td>6.2</td>\n      <td>0.785</td>\n      <td>0.00</td>\n      <td>2.1</td>\n      <td>0.060</td>\n      <td>6.0</td>\n      <td>13.0</td>\n      <td>0.99664</td>\n      <td>3.59</td>\n      <td>0.61</td>\n      <td>10.0</td>\n      <td>4</td>\n    </tr>\n    <tr>\n      <th>1466</th>\n      <td>7.3</td>\n      <td>0.480</td>\n      <td>0.32</td>\n      <td>2.1</td>\n      <td>0.062</td>\n      <td>31.0</td>\n      <td>54.0</td>\n      <td>0.99728</td>\n      <td>3.30</td>\n      <td>0.65</td>\n      <td>10.0</td>\n      <td>7</td>\n    </tr>\n    <tr>\n      <th>1468</th>\n      <td>7.3</td>\n      <td>0.480</td>\n      <td>0.32</td>\n      <td>2.1</td>\n      <td>0.062</td>\n      <td>31.0</td>\n      <td>54.0</td>\n      <td>0.99728</td>\n      <td>3.30</td>\n      <td>0.65</td>\n      <td>10.0</td>\n      <td>7</td>\n    </tr>\n    <tr>\n      <th>1494</th>\n      <td>6.4</td>\n      <td>0.310</td>\n      <td>0.09</td>\n      <td>1.4</td>\n      <td>0.066</td>\n      <td>15.0</td>\n      <td>28.0</td>\n      <td>0.99459</td>\n      <td>3.42</td>\n      <td>0.70</td>\n      <td>10.0</td>\n      <td>7</td>\n    </tr>\n    <tr>\n      <th>1524</th>\n      <td>6.0</td>\n      <td>0.420</td>\n      <td>0.19</td>\n      <td>2.0</td>\n      <td>0.075</td>\n      <td>22.0</td>\n      <td>47.0</td>\n      <td>0.99522</td>\n      <td>3.39</td>\n      <td>0.78</td>\n      <td>10.0</td>\n      <td>6</td>\n    </tr>\n  </tbody>\n</table>\n<p>67 rows × 12 columns</p>\n</div>"
     },
     "execution_count": 24,
     "metadata": {},
     "output_type": "execute_result"
    }
   ],
   "source": [
    "univ_df[ (univ_df.pH == 2.0) & (univ_df.alcohol == 6.0) | (univ_df.alcohol == 10.0)]"
   ],
   "metadata": {
    "collapsed": false
   }
  },
  {
   "cell_type": "code",
   "execution_count": 25,
   "outputs": [],
   "source": [
    "#5.1 Выполнить сортировку отфильтрованного набора данных"
   ],
   "metadata": {
    "collapsed": false
   }
  },
  {
   "cell_type": "code",
   "execution_count": 26,
   "outputs": [
    {
     "data": {
      "text/plain": "      fixed acidity  volatile acidity  citric acid  residual sugar  chlorides  \\\n1143            7.0             0.220         0.30             1.8      0.065   \n520             9.8             0.250         0.49             2.7      0.088   \n1494            6.4             0.310         0.09             1.4      0.066   \n709             9.7             0.310         0.47             1.6      0.062   \n250            10.8             0.320         0.44             1.6      0.063   \n...             ...               ...          ...             ...        ...   \n981             9.5             0.860         0.26             1.9      0.079   \n1376            8.2             0.885         0.20             1.4      0.086   \n600             8.2             0.915         0.27             2.1      0.088   \n775             7.2             1.000         0.00             3.0      0.102   \n1012            7.7             1.005         0.15             2.1      0.102   \n\n      free sulfur dioxide  total sulfur dioxide  density    pH  sulphates  \\\n1143                 16.0                  20.0  0.99672  3.61       0.82   \n520                  15.0                  33.0  0.99820  3.42       0.90   \n1494                 15.0                  28.0  0.99459  3.42       0.70   \n709                  13.0                  33.0  0.99830  3.27       0.66   \n250                  16.0                  37.0  0.99850  3.22       0.78   \n...                   ...                   ...      ...   ...        ...   \n981                  13.0                  28.0  0.99712  3.25       0.62   \n1376                  7.0                  31.0  0.99460  3.11       0.46   \n600                   7.0                  23.0  0.99620  3.26       0.47   \n775                   7.0                  16.0  0.99586  3.43       0.46   \n1012                 11.0                  32.0  0.99604  3.23       0.48   \n\n      alcohol  quality  \n1143     10.0        6  \n520      10.0        6  \n1494     10.0        7  \n709      10.0        6  \n250      10.0        6  \n...       ...      ...  \n981      10.0        5  \n1376     10.0        5  \n600      10.0        4  \n775      10.0        5  \n1012     10.0        5  \n\n[67 rows x 12 columns]",
      "text/html": "<div>\n<style scoped>\n    .dataframe tbody tr th:only-of-type {\n        vertical-align: middle;\n    }\n\n    .dataframe tbody tr th {\n        vertical-align: top;\n    }\n\n    .dataframe thead th {\n        text-align: right;\n    }\n</style>\n<table border=\"1\" class=\"dataframe\">\n  <thead>\n    <tr style=\"text-align: right;\">\n      <th></th>\n      <th>fixed acidity</th>\n      <th>volatile acidity</th>\n      <th>citric acid</th>\n      <th>residual sugar</th>\n      <th>chlorides</th>\n      <th>free sulfur dioxide</th>\n      <th>total sulfur dioxide</th>\n      <th>density</th>\n      <th>pH</th>\n      <th>sulphates</th>\n      <th>alcohol</th>\n      <th>quality</th>\n    </tr>\n  </thead>\n  <tbody>\n    <tr>\n      <th>1143</th>\n      <td>7.0</td>\n      <td>0.220</td>\n      <td>0.30</td>\n      <td>1.8</td>\n      <td>0.065</td>\n      <td>16.0</td>\n      <td>20.0</td>\n      <td>0.99672</td>\n      <td>3.61</td>\n      <td>0.82</td>\n      <td>10.0</td>\n      <td>6</td>\n    </tr>\n    <tr>\n      <th>520</th>\n      <td>9.8</td>\n      <td>0.250</td>\n      <td>0.49</td>\n      <td>2.7</td>\n      <td>0.088</td>\n      <td>15.0</td>\n      <td>33.0</td>\n      <td>0.99820</td>\n      <td>3.42</td>\n      <td>0.90</td>\n      <td>10.0</td>\n      <td>6</td>\n    </tr>\n    <tr>\n      <th>1494</th>\n      <td>6.4</td>\n      <td>0.310</td>\n      <td>0.09</td>\n      <td>1.4</td>\n      <td>0.066</td>\n      <td>15.0</td>\n      <td>28.0</td>\n      <td>0.99459</td>\n      <td>3.42</td>\n      <td>0.70</td>\n      <td>10.0</td>\n      <td>7</td>\n    </tr>\n    <tr>\n      <th>709</th>\n      <td>9.7</td>\n      <td>0.310</td>\n      <td>0.47</td>\n      <td>1.6</td>\n      <td>0.062</td>\n      <td>13.0</td>\n      <td>33.0</td>\n      <td>0.99830</td>\n      <td>3.27</td>\n      <td>0.66</td>\n      <td>10.0</td>\n      <td>6</td>\n    </tr>\n    <tr>\n      <th>250</th>\n      <td>10.8</td>\n      <td>0.320</td>\n      <td>0.44</td>\n      <td>1.6</td>\n      <td>0.063</td>\n      <td>16.0</td>\n      <td>37.0</td>\n      <td>0.99850</td>\n      <td>3.22</td>\n      <td>0.78</td>\n      <td>10.0</td>\n      <td>6</td>\n    </tr>\n    <tr>\n      <th>...</th>\n      <td>...</td>\n      <td>...</td>\n      <td>...</td>\n      <td>...</td>\n      <td>...</td>\n      <td>...</td>\n      <td>...</td>\n      <td>...</td>\n      <td>...</td>\n      <td>...</td>\n      <td>...</td>\n      <td>...</td>\n    </tr>\n    <tr>\n      <th>981</th>\n      <td>9.5</td>\n      <td>0.860</td>\n      <td>0.26</td>\n      <td>1.9</td>\n      <td>0.079</td>\n      <td>13.0</td>\n      <td>28.0</td>\n      <td>0.99712</td>\n      <td>3.25</td>\n      <td>0.62</td>\n      <td>10.0</td>\n      <td>5</td>\n    </tr>\n    <tr>\n      <th>1376</th>\n      <td>8.2</td>\n      <td>0.885</td>\n      <td>0.20</td>\n      <td>1.4</td>\n      <td>0.086</td>\n      <td>7.0</td>\n      <td>31.0</td>\n      <td>0.99460</td>\n      <td>3.11</td>\n      <td>0.46</td>\n      <td>10.0</td>\n      <td>5</td>\n    </tr>\n    <tr>\n      <th>600</th>\n      <td>8.2</td>\n      <td>0.915</td>\n      <td>0.27</td>\n      <td>2.1</td>\n      <td>0.088</td>\n      <td>7.0</td>\n      <td>23.0</td>\n      <td>0.99620</td>\n      <td>3.26</td>\n      <td>0.47</td>\n      <td>10.0</td>\n      <td>4</td>\n    </tr>\n    <tr>\n      <th>775</th>\n      <td>7.2</td>\n      <td>1.000</td>\n      <td>0.00</td>\n      <td>3.0</td>\n      <td>0.102</td>\n      <td>7.0</td>\n      <td>16.0</td>\n      <td>0.99586</td>\n      <td>3.43</td>\n      <td>0.46</td>\n      <td>10.0</td>\n      <td>5</td>\n    </tr>\n    <tr>\n      <th>1012</th>\n      <td>7.7</td>\n      <td>1.005</td>\n      <td>0.15</td>\n      <td>2.1</td>\n      <td>0.102</td>\n      <td>11.0</td>\n      <td>32.0</td>\n      <td>0.99604</td>\n      <td>3.23</td>\n      <td>0.48</td>\n      <td>10.0</td>\n      <td>5</td>\n    </tr>\n  </tbody>\n</table>\n<p>67 rows × 12 columns</p>\n</div>"
     },
     "execution_count": 26,
     "metadata": {},
     "output_type": "execute_result"
    }
   ],
   "source": [
    "univ_df[ univ_df.alcohol == 10 ].sort_values( by = [\"volatile acidity\", \"free sulfur dioxide\", \"alcohol\"], ascending = [True, False, True] )"
   ],
   "metadata": {
    "collapsed": false
   }
  },
  {
   "cell_type": "code",
   "execution_count": 27,
   "outputs": [],
   "source": [
    "#6.\tВыполнить группировку данных по некоторым признакам (на основе предварительного анализа содержимого набора данных)"
   ],
   "metadata": {
    "collapsed": false
   }
  },
  {
   "cell_type": "code",
   "execution_count": 28,
   "outputs": [
    {
     "data": {
      "text/plain": "          volatile acidity             free sulfur dioxide            \n                      mean  amin  amax                mean  amin  amax\nalcohol                                                               \n8.400000          0.460000  0.31  0.61            5.500000   5.0   6.0\n8.500000          0.380000  0.38  0.38           27.000000  27.0  27.0\n8.700000          0.330000  0.24  0.42           21.500000  11.0  32.0\n8.800000          0.500000  0.50  0.50           48.000000  48.0  48.0\n9.000000          0.586833  0.34  1.07           16.466667   5.0  55.0\n...                    ...   ...   ...                 ...   ...   ...\n13.500000         0.290000  0.29  0.29            3.000000   3.0   3.0\n13.566667         0.470000  0.47  0.47           16.000000  16.0  16.0\n13.600000         0.412500  0.36  0.47           20.250000  16.0  29.0\n14.000000         0.407143  0.34  0.49           21.428571   7.0  28.0\n14.900000         0.360000  0.36  0.36           22.000000  22.0  22.0\n\n[65 rows x 6 columns]",
      "text/html": "<div>\n<style scoped>\n    .dataframe tbody tr th:only-of-type {\n        vertical-align: middle;\n    }\n\n    .dataframe tbody tr th {\n        vertical-align: top;\n    }\n\n    .dataframe thead tr th {\n        text-align: left;\n    }\n\n    .dataframe thead tr:last-of-type th {\n        text-align: right;\n    }\n</style>\n<table border=\"1\" class=\"dataframe\">\n  <thead>\n    <tr>\n      <th></th>\n      <th colspan=\"3\" halign=\"left\">volatile acidity</th>\n      <th colspan=\"3\" halign=\"left\">free sulfur dioxide</th>\n    </tr>\n    <tr>\n      <th></th>\n      <th>mean</th>\n      <th>amin</th>\n      <th>amax</th>\n      <th>mean</th>\n      <th>amin</th>\n      <th>amax</th>\n    </tr>\n    <tr>\n      <th>alcohol</th>\n      <th></th>\n      <th></th>\n      <th></th>\n      <th></th>\n      <th></th>\n      <th></th>\n    </tr>\n  </thead>\n  <tbody>\n    <tr>\n      <th>8.400000</th>\n      <td>0.460000</td>\n      <td>0.31</td>\n      <td>0.61</td>\n      <td>5.500000</td>\n      <td>5.0</td>\n      <td>6.0</td>\n    </tr>\n    <tr>\n      <th>8.500000</th>\n      <td>0.380000</td>\n      <td>0.38</td>\n      <td>0.38</td>\n      <td>27.000000</td>\n      <td>27.0</td>\n      <td>27.0</td>\n    </tr>\n    <tr>\n      <th>8.700000</th>\n      <td>0.330000</td>\n      <td>0.24</td>\n      <td>0.42</td>\n      <td>21.500000</td>\n      <td>11.0</td>\n      <td>32.0</td>\n    </tr>\n    <tr>\n      <th>8.800000</th>\n      <td>0.500000</td>\n      <td>0.50</td>\n      <td>0.50</td>\n      <td>48.000000</td>\n      <td>48.0</td>\n      <td>48.0</td>\n    </tr>\n    <tr>\n      <th>9.000000</th>\n      <td>0.586833</td>\n      <td>0.34</td>\n      <td>1.07</td>\n      <td>16.466667</td>\n      <td>5.0</td>\n      <td>55.0</td>\n    </tr>\n    <tr>\n      <th>...</th>\n      <td>...</td>\n      <td>...</td>\n      <td>...</td>\n      <td>...</td>\n      <td>...</td>\n      <td>...</td>\n    </tr>\n    <tr>\n      <th>13.500000</th>\n      <td>0.290000</td>\n      <td>0.29</td>\n      <td>0.29</td>\n      <td>3.000000</td>\n      <td>3.0</td>\n      <td>3.0</td>\n    </tr>\n    <tr>\n      <th>13.566667</th>\n      <td>0.470000</td>\n      <td>0.47</td>\n      <td>0.47</td>\n      <td>16.000000</td>\n      <td>16.0</td>\n      <td>16.0</td>\n    </tr>\n    <tr>\n      <th>13.600000</th>\n      <td>0.412500</td>\n      <td>0.36</td>\n      <td>0.47</td>\n      <td>20.250000</td>\n      <td>16.0</td>\n      <td>29.0</td>\n    </tr>\n    <tr>\n      <th>14.000000</th>\n      <td>0.407143</td>\n      <td>0.34</td>\n      <td>0.49</td>\n      <td>21.428571</td>\n      <td>7.0</td>\n      <td>28.0</td>\n    </tr>\n    <tr>\n      <th>14.900000</th>\n      <td>0.360000</td>\n      <td>0.36</td>\n      <td>0.36</td>\n      <td>22.000000</td>\n      <td>22.0</td>\n      <td>22.0</td>\n    </tr>\n  </tbody>\n</table>\n<p>65 rows × 6 columns</p>\n</div>"
     },
     "execution_count": 28,
     "metadata": {},
     "output_type": "execute_result"
    }
   ],
   "source": [
    "univ_df.groupby([\"alcohol\"])[[\"volatile acidity\",\"free sulfur dioxide\"]].agg( [np.mean, np.min, np.max] )"
   ],
   "metadata": {
    "collapsed": false
   }
  },
  {
   "cell_type": "code",
   "execution_count": 29,
   "outputs": [],
   "source": [
    "#7.\tВыполнить объединение таблиц с различнымы типами присоединения (если нет возможности выполнить эту операцию с загруженным набором, то допускается создать собственные наборы)"
   ],
   "metadata": {
    "collapsed": false
   }
  },
  {
   "cell_type": "code",
   "execution_count": 30,
   "outputs": [
    {
     "data": {
      "text/plain": "   fixed acidity  volatile acidity  citric acid  residual sugar  chlorides  \\\n0            7.4              0.70         0.00             1.9      0.076   \n1            7.8              0.88         0.00             2.6      0.098   \n2            7.8              0.76         0.04             2.3      0.092   \n3           11.2              0.28         0.56             1.9      0.075   \n4            7.4              0.70         0.00             1.9      0.076   \n\n   free sulfur dioxide  total sulfur dioxide  density    pH  sulphates  \\\n0                 11.0                  34.0   0.9978  3.51       0.56   \n1                 25.0                  67.0   0.9968  3.20       0.68   \n2                 15.0                  54.0   0.9970  3.26       0.65   \n3                 17.0                  60.0   0.9980  3.16       0.58   \n4                 11.0                  34.0   0.9978  3.51       0.56   \n\n   alcohol  quality            0  \n0      9.4        5  winequality  \n1      9.8        5          NaN  \n2      9.8        5          NaN  \n3      9.8        6          NaN  \n4      9.4        5          NaN  ",
      "text/html": "<div>\n<style scoped>\n    .dataframe tbody tr th:only-of-type {\n        vertical-align: middle;\n    }\n\n    .dataframe tbody tr th {\n        vertical-align: top;\n    }\n\n    .dataframe thead th {\n        text-align: right;\n    }\n</style>\n<table border=\"1\" class=\"dataframe\">\n  <thead>\n    <tr style=\"text-align: right;\">\n      <th></th>\n      <th>fixed acidity</th>\n      <th>volatile acidity</th>\n      <th>citric acid</th>\n      <th>residual sugar</th>\n      <th>chlorides</th>\n      <th>free sulfur dioxide</th>\n      <th>total sulfur dioxide</th>\n      <th>density</th>\n      <th>pH</th>\n      <th>sulphates</th>\n      <th>alcohol</th>\n      <th>quality</th>\n      <th>0</th>\n    </tr>\n  </thead>\n  <tbody>\n    <tr>\n      <th>0</th>\n      <td>7.4</td>\n      <td>0.70</td>\n      <td>0.00</td>\n      <td>1.9</td>\n      <td>0.076</td>\n      <td>11.0</td>\n      <td>34.0</td>\n      <td>0.9978</td>\n      <td>3.51</td>\n      <td>0.56</td>\n      <td>9.4</td>\n      <td>5</td>\n      <td>winequality</td>\n    </tr>\n    <tr>\n      <th>1</th>\n      <td>7.8</td>\n      <td>0.88</td>\n      <td>0.00</td>\n      <td>2.6</td>\n      <td>0.098</td>\n      <td>25.0</td>\n      <td>67.0</td>\n      <td>0.9968</td>\n      <td>3.20</td>\n      <td>0.68</td>\n      <td>9.8</td>\n      <td>5</td>\n      <td>NaN</td>\n    </tr>\n    <tr>\n      <th>2</th>\n      <td>7.8</td>\n      <td>0.76</td>\n      <td>0.04</td>\n      <td>2.3</td>\n      <td>0.092</td>\n      <td>15.0</td>\n      <td>54.0</td>\n      <td>0.9970</td>\n      <td>3.26</td>\n      <td>0.65</td>\n      <td>9.8</td>\n      <td>5</td>\n      <td>NaN</td>\n    </tr>\n    <tr>\n      <th>3</th>\n      <td>11.2</td>\n      <td>0.28</td>\n      <td>0.56</td>\n      <td>1.9</td>\n      <td>0.075</td>\n      <td>17.0</td>\n      <td>60.0</td>\n      <td>0.9980</td>\n      <td>3.16</td>\n      <td>0.58</td>\n      <td>9.8</td>\n      <td>6</td>\n      <td>NaN</td>\n    </tr>\n    <tr>\n      <th>4</th>\n      <td>7.4</td>\n      <td>0.70</td>\n      <td>0.00</td>\n      <td>1.9</td>\n      <td>0.076</td>\n      <td>11.0</td>\n      <td>34.0</td>\n      <td>0.9978</td>\n      <td>3.51</td>\n      <td>0.56</td>\n      <td>9.4</td>\n      <td>5</td>\n      <td>NaN</td>\n    </tr>\n  </tbody>\n</table>\n</div>"
     },
     "execution_count": 30,
     "metadata": {},
     "output_type": "execute_result"
    }
   ],
   "source": [
    "user_df = pd.DataFrame([\"winequality\"])\n",
    "user_df\n",
    "merge = pd.merge(univ_df, user_df,\n",
    "                       how='left', left_index=True, right_index=True)\n",
    "merge.head()"
   ],
   "metadata": {
    "collapsed": false
   }
  },
  {
   "cell_type": "code",
   "execution_count": 31,
   "outputs": [
    {
     "data": {
      "text/plain": "      Имя  Рост\n0    Саша   188\n1    Петя   176\n2    Вася   180\n3   Антон   192\n4    Катя   168\n5  Сергей   183",
      "text/html": "<div>\n<style scoped>\n    .dataframe tbody tr th:only-of-type {\n        vertical-align: middle;\n    }\n\n    .dataframe tbody tr th {\n        vertical-align: top;\n    }\n\n    .dataframe thead th {\n        text-align: right;\n    }\n</style>\n<table border=\"1\" class=\"dataframe\">\n  <thead>\n    <tr style=\"text-align: right;\">\n      <th></th>\n      <th>Имя</th>\n      <th>Рост</th>\n    </tr>\n  </thead>\n  <tbody>\n    <tr>\n      <th>0</th>\n      <td>Саша</td>\n      <td>188</td>\n    </tr>\n    <tr>\n      <th>1</th>\n      <td>Петя</td>\n      <td>176</td>\n    </tr>\n    <tr>\n      <th>2</th>\n      <td>Вася</td>\n      <td>180</td>\n    </tr>\n    <tr>\n      <th>3</th>\n      <td>Антон</td>\n      <td>192</td>\n    </tr>\n    <tr>\n      <th>4</th>\n      <td>Катя</td>\n      <td>168</td>\n    </tr>\n    <tr>\n      <th>5</th>\n      <td>Сергей</td>\n      <td>183</td>\n    </tr>\n  </tbody>\n</table>\n</div>"
     },
     "execution_count": 31,
     "metadata": {},
     "output_type": "execute_result"
    }
   ],
   "source": [
    "std_df = pd.DataFrame([[\"Саша\", 188],\n",
    "                        [\"Петя\", 176],\n",
    "                        [\"Вася\", 180],\n",
    "                        [\"Антон\", 192],\n",
    "                        [\"Катя\", 168],\n",
    "                        [\"Сергей\", 183]], columns=[\"Имя\", \"Рост\"])\n",
    "std_df"
   ],
   "metadata": {
    "collapsed": false
   }
  },
  {
   "cell_type": "code",
   "execution_count": 32,
   "outputs": [
    {
     "data": {
      "text/plain": "     Имя   Вуз\n0   Коля  ВВГУ\n1   Ваня  ВВГУ\n2   Федя  ДВФУ\n3  Динис  ДВФУ\n4   Лиза  ТГМУ\n5   Саша  None",
      "text/html": "<div>\n<style scoped>\n    .dataframe tbody tr th:only-of-type {\n        vertical-align: middle;\n    }\n\n    .dataframe tbody tr th {\n        vertical-align: top;\n    }\n\n    .dataframe thead th {\n        text-align: right;\n    }\n</style>\n<table border=\"1\" class=\"dataframe\">\n  <thead>\n    <tr style=\"text-align: right;\">\n      <th></th>\n      <th>Имя</th>\n      <th>Вуз</th>\n    </tr>\n  </thead>\n  <tbody>\n    <tr>\n      <th>0</th>\n      <td>Коля</td>\n      <td>ВВГУ</td>\n    </tr>\n    <tr>\n      <th>1</th>\n      <td>Ваня</td>\n      <td>ВВГУ</td>\n    </tr>\n    <tr>\n      <th>2</th>\n      <td>Федя</td>\n      <td>ДВФУ</td>\n    </tr>\n    <tr>\n      <th>3</th>\n      <td>Динис</td>\n      <td>ДВФУ</td>\n    </tr>\n    <tr>\n      <th>4</th>\n      <td>Лиза</td>\n      <td>ТГМУ</td>\n    </tr>\n    <tr>\n      <th>5</th>\n      <td>Саша</td>\n      <td>None</td>\n    </tr>\n  </tbody>\n</table>\n</div>"
     },
     "execution_count": 32,
     "metadata": {},
     "output_type": "execute_result"
    }
   ],
   "source": [
    "study_df = pd.DataFrame([[\"Коля\", \"ВВГУ\"],\n",
    "                        [\"Ваня\", \"ВВГУ\"],\n",
    "                        [\"Федя\", \"ДВФУ\"],\n",
    "                        [\"Динис\", \"ДВФУ\"],\n",
    "                        [\"Лиза\", \"ТГМУ\"],\n",
    "                        [\"Саша\"]], columns=[\"Имя\", \"Вуз\"])\n",
    "study_df"
   ],
   "metadata": {
    "collapsed": false
   }
  },
  {
   "cell_type": "code",
   "execution_count": 33,
   "outputs": [
    {
     "data": {
      "text/plain": "     Имя   Рост   Вуз\n0   Коля    NaN  ВВГУ\n1   Ваня    NaN  ВВГУ\n2   Федя    NaN  ДВФУ\n3  Динис    NaN  ДВФУ\n4   Лиза    NaN  ТГМУ\n5   Саша  188.0  None",
      "text/html": "<div>\n<style scoped>\n    .dataframe tbody tr th:only-of-type {\n        vertical-align: middle;\n    }\n\n    .dataframe tbody tr th {\n        vertical-align: top;\n    }\n\n    .dataframe thead th {\n        text-align: right;\n    }\n</style>\n<table border=\"1\" class=\"dataframe\">\n  <thead>\n    <tr style=\"text-align: right;\">\n      <th></th>\n      <th>Имя</th>\n      <th>Рост</th>\n      <th>Вуз</th>\n    </tr>\n  </thead>\n  <tbody>\n    <tr>\n      <th>0</th>\n      <td>Коля</td>\n      <td>NaN</td>\n      <td>ВВГУ</td>\n    </tr>\n    <tr>\n      <th>1</th>\n      <td>Ваня</td>\n      <td>NaN</td>\n      <td>ВВГУ</td>\n    </tr>\n    <tr>\n      <th>2</th>\n      <td>Федя</td>\n      <td>NaN</td>\n      <td>ДВФУ</td>\n    </tr>\n    <tr>\n      <th>3</th>\n      <td>Динис</td>\n      <td>NaN</td>\n      <td>ДВФУ</td>\n    </tr>\n    <tr>\n      <th>4</th>\n      <td>Лиза</td>\n      <td>NaN</td>\n      <td>ТГМУ</td>\n    </tr>\n    <tr>\n      <th>5</th>\n      <td>Саша</td>\n      <td>188.0</td>\n      <td>None</td>\n    </tr>\n  </tbody>\n</table>\n</div>"
     },
     "execution_count": 33,
     "metadata": {},
     "output_type": "execute_result"
    }
   ],
   "source": [
    "full_df = std_df.merge(study_df, how = \"right\", left_on = \"Имя\", right_on = \"Имя\")\n",
    "full_df"
   ],
   "metadata": {
    "collapsed": false
   }
  },
  {
   "cell_type": "code",
   "execution_count": null,
   "outputs": [],
   "source": [],
   "metadata": {
    "collapsed": false
   }
  }
 ],
 "metadata": {
  "kernelspec": {
   "display_name": "Python 3",
   "language": "python",
   "name": "python3"
  },
  "language_info": {
   "codemirror_mode": {
    "name": "ipython",
    "version": 2
   },
   "file_extension": ".py",
   "mimetype": "text/x-python",
   "name": "python",
   "nbconvert_exporter": "python",
   "pygments_lexer": "ipython2",
   "version": "2.7.6"
  }
 },
 "nbformat": 4,
 "nbformat_minor": 0
}
